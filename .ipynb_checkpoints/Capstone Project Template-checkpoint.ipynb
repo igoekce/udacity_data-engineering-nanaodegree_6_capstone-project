{
 "cells": [
  {
   "cell_type": "markdown",
   "metadata": {
    "editable": true
   },
   "source": [
    "# Project Title\n",
    "### Data Engineering Capstone Project\n",
    "\n",
    "#### Project Summary\n",
    "--describe your project at a high level--\n",
    "\n",
    "The project follows the follow steps:\n",
    "* Step 1: Scope the Project and Gather Data\n",
    "* Step 2: Explore and Assess the Data\n",
    "* Step 3: Define the Data Model\n",
    "* Step 4: Run ETL to Model the Data\n",
    "* Step 5: Complete Project Write Up"
   ]
  },
  {
   "cell_type": "code",
   "execution_count": 2,
   "metadata": {
    "editable": true
   },
   "outputs": [],
   "source": [
    "# Do all imports and installs here\n",
    "import pandas as pd\n",
    "import datetime as dt\n",
    "\n",
    "from pyspark.sql import SparkSession\n",
    "spark = SparkSession.builder.\\\n",
    "config(\"spark.jars.packages\", \"org.apache.hadoop:hadoop-aws:2.7.0\") \\\n",
    ".getOrCreate()\n",
    "\n",
    "from pyspark.sql.functions import first\n",
    "from pyspark.sql.functions import upper, col\n",
    "from pyspark.sql.types import StructField, StructType, StringType, LongType, IntegerType\n",
    "from pyspark.sql.functions import udf, date_format\n"
   ]
  },
  {
   "cell_type": "markdown",
   "metadata": {
    "editable": true
   },
   "source": [
    "### Step 1: Scope the Project and Gather Data\n",
    "\n",
    "#### Scope \n",
    "Explain what you plan to do in the project in more detail. What data do you use? What is your end solution look like? What tools did you use? etc>\n",
    "\n",
    "#### Describe and Gather Data \n",
    "Describe the data sets you're using. Where did it come from? What type of information is included? "
   ]
  },
  {
   "cell_type": "code",
   "execution_count": 2,
   "metadata": {
    "editable": true
   },
   "outputs": [],
   "source": [
    "# Read in the data here\n",
    "#fname = '../../data/18-83510-I94-Data-2016/i94_apr16_sub.sas7bdat'\n",
    "#df = pd.read_sas(fname, 'sas7bdat', encoding=\"ISO-8859-1\")"
   ]
  },
  {
   "cell_type": "code",
   "execution_count": null,
   "metadata": {
    "editable": true
   },
   "outputs": [],
   "source": [
    "#df.head()"
   ]
  },
  {
   "cell_type": "markdown",
   "metadata": {
    "editable": true
   },
   "source": [
    "### Step 2: Explore and Assess the Data\n",
    "#### Explore the Data \n",
    "Identify data quality issues, like missing values, duplicate data, etc.\n",
    "\n",
    "#### Cleaning Steps\n",
    "Document steps necessary to clean the data"
   ]
  },
  {
   "cell_type": "code",
   "execution_count": null,
   "metadata": {
    "editable": true
   },
   "outputs": [],
   "source": [
    "# Performing cleaning tasks here\n",
    "\n"
   ]
  },
  {
   "cell_type": "markdown",
   "metadata": {
    "editable": true
   },
   "source": [
    "##### Read US Cities Demo dataset file"
   ]
  },
  {
   "cell_type": "code",
   "execution_count": 3,
   "metadata": {
    "editable": true
   },
   "outputs": [
    {
     "data": {
      "text/plain": [
       "['City',\n",
       " 'State',\n",
       " 'Median Age',\n",
       " 'Male Population',\n",
       " 'Female Population',\n",
       " 'Total Population',\n",
       " 'Number of Veterans',\n",
       " 'Foreign-born',\n",
       " 'Average Household Size',\n",
       " 'State Code',\n",
       " 'Race',\n",
       " 'Count']"
      ]
     },
     "execution_count": 3,
     "metadata": {},
     "output_type": "execute_result"
    }
   ],
   "source": [
    "# Read US Cities Demo dataset file\n",
    "us_spark=spark.read.csv(\"./data/us-cities-demographics.csv\", sep=';', header=True)\n",
    "# Check columns of dataset\n",
    "us_spark.columns"
   ]
  },
  {
   "cell_type": "code",
   "execution_count": 4,
   "metadata": {
    "editable": true
   },
   "outputs": [
    {
     "name": "stdout",
     "output_type": "stream",
     "text": [
      "+-------+----------+----------+---------------+-----------------+----------------+------------+----------------------+\n",
      "|   City|     state|Median Age|male population|female population|total population|foreign-born|Average Household Size|\n",
      "+-------+----------+----------+---------------+-----------------+----------------+------------+----------------------+\n",
      "|Abilene|     Texas|      31.3|          65212|            60664|          125876|        8129|                  2.64|\n",
      "|Abilene|     Texas|      31.3|          65212|            60664|          125876|        8129|                  2.64|\n",
      "|Abilene|     Texas|      31.3|          65212|            60664|          125876|        8129|                  2.64|\n",
      "|Abilene|     Texas|      31.3|          65212|            60664|          125876|        8129|                  2.64|\n",
      "|Abilene|     Texas|      31.3|          65212|            60664|          125876|        8129|                  2.64|\n",
      "|  Akron|      Ohio|      38.1|          96886|           100667|          197553|       10024|                  2.24|\n",
      "|  Akron|      Ohio|      38.1|          96886|           100667|          197553|       10024|                  2.24|\n",
      "|  Akron|      Ohio|      38.1|          96886|           100667|          197553|       10024|                  2.24|\n",
      "|  Akron|      Ohio|      38.1|          96886|           100667|          197553|       10024|                  2.24|\n",
      "|  Akron|      Ohio|      38.1|          96886|           100667|          197553|       10024|                  2.24|\n",
      "|Alafaya|   Florida|      33.5|          39504|            45760|           85264|       15842|                  2.94|\n",
      "|Alafaya|   Florida|      33.5|          39504|            45760|           85264|       15842|                  2.94|\n",
      "|Alafaya|   Florida|      33.5|          39504|            45760|           85264|       15842|                  2.94|\n",
      "|Alafaya|   Florida|      33.5|          39504|            45760|           85264|       15842|                  2.94|\n",
      "|Alameda|California|      41.4|          37747|            40867|           78614|       18841|                  2.52|\n",
      "|Alameda|California|      41.4|          37747|            40867|           78614|       18841|                  2.52|\n",
      "|Alameda|California|      41.4|          37747|            40867|           78614|       18841|                  2.52|\n",
      "|Alameda|California|      41.4|          37747|            40867|           78614|       18841|                  2.52|\n",
      "|Alameda|California|      41.4|          37747|            40867|           78614|       18841|                  2.52|\n",
      "| Albany|  New York|      32.8|          47627|            50825|           98452|       11948|                  2.08|\n",
      "+-------+----------+----------+---------------+-----------------+----------------+------------+----------------------+\n",
      "only showing top 20 rows\n",
      "\n"
     ]
    }
   ],
   "source": [
    "# Check us_spark dataset for duplicate rows and which columns cause the duplicates\n",
    "us_spark.select(\"City\",\"state\",\"Median Age\",\"male population\",\"female population\",\"total population\", \\\n",
    "                  \"foreign-born\",\"Average Household Size\").orderBy(\"city\").show()"
   ]
  },
  {
   "cell_type": "markdown",
   "metadata": {
    "editable": true
   },
   "source": [
    "##### Transformation of demo dataset file"
   ]
  },
  {
   "cell_type": "code",
   "execution_count": 8,
   "metadata": {
    "editable": true
   },
   "outputs": [],
   "source": [
    "# Creating 'us_race_cnt' dataset\n",
    "us_race_cnt=(us_spark.select(\"city\",\"state code\",\"Race\",\"count\")\n",
    "    .groupby(us_spark.City, \"state code\")\n",
    "    .pivot(\"Race\")\n",
    "    .agg(first(\"Count\")))"
   ]
  },
  {
   "cell_type": "code",
   "execution_count": 9,
   "metadata": {
    "editable": true
   },
   "outputs": [
    {
     "name": "stdout",
     "output_type": "stream",
     "text": [
      "+------------+----------+---------------------------------+-----+-------------------------+------------------+------+\n",
      "|        City|state code|American Indian and Alaska Native|Asian|Black or African-American|Hispanic or Latino| White|\n",
      "+------------+----------+---------------------------------+-----+-------------------------+------------------+------+\n",
      "|     Abilene|        TX|                             1813| 2929|                    14449|             33222| 95487|\n",
      "|       Akron|        OH|                             1845| 9033|                    66551|              3684|129192|\n",
      "|     Alafaya|        FL|                             null|10336|                     6577|             34897| 63666|\n",
      "|     Alameda|        CA|                             1329|27984|                     7364|              8265| 44232|\n",
      "|      Albany|        NY|                             1611| 8090|                    31303|              9368| 58368|\n",
      "|      Albany|        GA|                              445|  650|                    53440|              1783| 17160|\n",
      "| Albuquerque|        NM|                            32243|25140|                    26774|            271854|411847|\n",
      "|  Alexandria|        VA|                             1133|13315|                    37168|             25573|106215|\n",
      "|    Alhambra|        CA|                              687|44067|                     1905|             31386| 20811|\n",
      "|       Allen|        TX|                              227|15790|                    13140|             10615| 69840|\n",
      "|       Allen|        PA|                             1076| 2670|                    22304|             59176| 74187|\n",
      "|    Amarillo|        TX|                             4260| 8563|                    14050|             65392|174214|\n",
      "|        Ames|        IA|                             null| 8979|                     1103|              2024| 56157|\n",
      "|     Anaheim|        CA|                             2489|53270|                     9775|            201593|259820|\n",
      "|   Anchorage|        AK|                            36339|36825|                    23107|             27261|212696|\n",
      "|   Ann Arbor|        MI|                             1935|18797|                     9577|              5888| 90173|\n",
      "|     Antioch|        CA|                             3462|14333|                    23227|             35563| 51151|\n",
      "|Apple Valley|        CA|                             1446| 2281|                     9124|             25928| 60767|\n",
      "|    Appleton|        WI|                              835| 5561|                     3407|              5139| 64674|\n",
      "|Arden-Arcade|        CA|                             2587| 7355|                    13647|             15273| 69369|\n",
      "+------------+----------+---------------------------------+-----+-------------------------+------------------+------+\n",
      "only showing top 20 rows\n",
      "\n"
     ]
    }
   ],
   "source": [
    "# Checking dataset\n",
    "us_race_cnt.orderBy(\"city\").show()"
   ]
  },
  {
   "cell_type": "code",
   "execution_count": 10,
   "metadata": {
    "editable": true
   },
   "outputs": [
    {
     "data": {
      "text/plain": [
       "(596, 596)"
      ]
     },
     "execution_count": 10,
     "metadata": {},
     "output_type": "execute_result"
    }
   ],
   "source": [
    "# Comparing both datasets after dropping duplicate rows\n",
    "(us_race_cnt.count(), us_race_cnt.dropDuplicates().count())"
   ]
  },
  {
   "cell_type": "code",
   "execution_count": 11,
   "metadata": {
    "editable": true
   },
   "outputs": [],
   "source": [
    "uscols=[\"Number of Veterans\",\"Race\",\"Count\"]"
   ]
  },
  {
   "cell_type": "code",
   "execution_count": 12,
   "metadata": {
    "editable": true
   },
   "outputs": [],
   "source": [
    "# Drop columns we don't need and drop duplicate rows\n",
    "us=us_spark.drop(*uscols).dropDuplicates()"
   ]
  },
  {
   "cell_type": "code",
   "execution_count": 13,
   "metadata": {
    "editable": true
   },
   "outputs": [
    {
     "data": {
      "text/plain": [
       "(2891, 596)"
      ]
     },
     "execution_count": 13,
     "metadata": {},
     "output_type": "execute_result"
    }
   ],
   "source": [
    "# Comparing row count between original and new dataset with dropped duplicate rows\n",
    "(us_spark.count(), us.count())\n",
    "# We can see that new cleaned 'us' dataset now matches number of rows with 'us_race_cnt' dataset\n",
    "# which will be joined together into one 'us' dataset"
   ]
  },
  {
   "cell_type": "code",
   "execution_count": 14,
   "metadata": {
    "editable": true
   },
   "outputs": [
    {
     "data": {
      "text/plain": [
       "596"
      ]
     },
     "execution_count": 14,
     "metadata": {},
     "output_type": "execute_result"
    }
   ],
   "source": [
    "# Checking number of records after joining both data sets\n",
    "us.join(us_race_cnt, [\"city\",\"state code\"]).count()\n",
    "# We now see total rows match both datasets after joining them"
   ]
  },
  {
   "cell_type": "code",
   "execution_count": 15,
   "metadata": {
    "editable": true
   },
   "outputs": [
    {
     "name": "stdout",
     "output_type": "stream",
     "text": [
      "+------------+----------+------------+----------+---------------+-----------------+----------------+------------+----------------------+---------------------------------+-----+-------------------------+------------------+------+\n",
      "|        City|State Code|       State|Median Age|Male Population|Female Population|Total Population|Foreign-born|Average Household Size|American Indian and Alaska Native|Asian|Black or African-American|Hispanic or Latino| White|\n",
      "+------------+----------+------------+----------+---------------+-----------------+----------------+------------+----------------------+---------------------------------+-----+-------------------------+------------------+------+\n",
      "|     Abilene|        TX|       Texas|      31.3|          65212|            60664|          125876|        8129|                  2.64|                             1813| 2929|                    14449|             33222| 95487|\n",
      "|       Akron|        OH|        Ohio|      38.1|          96886|           100667|          197553|       10024|                  2.24|                             1845| 9033|                    66551|              3684|129192|\n",
      "|     Alafaya|        FL|     Florida|      33.5|          39504|            45760|           85264|       15842|                  2.94|                             null|10336|                     6577|             34897| 63666|\n",
      "|     Alameda|        CA|  California|      41.4|          37747|            40867|           78614|       18841|                  2.52|                             1329|27984|                     7364|              8265| 44232|\n",
      "|      Albany|        NY|    New York|      32.8|          47627|            50825|           98452|       11948|                  2.08|                             1611| 8090|                    31303|              9368| 58368|\n",
      "|      Albany|        GA|     Georgia|      33.3|          31695|            39414|           71109|         861|                  2.38|                              445|  650|                    53440|              1783| 17160|\n",
      "| Albuquerque|        NM|  New Mexico|      36.0|         273323|           285808|          559131|       58200|                  2.49|                            32243|25140|                    26774|            271854|411847|\n",
      "|  Alexandria|        VA|    Virginia|      36.6|          74989|            78522|          153511|       44030|                   2.2|                             1133|13315|                    37168|             25573|106215|\n",
      "|    Alhambra|        CA|  California|      41.0|          42184|            43388|           85572|       44441|                  2.89|                              687|44067|                     1905|             31386| 20811|\n",
      "|       Allen|        TX|       Texas|      37.2|          51324|            46814|           98138|       19649|                  3.04|                              227|15790|                    13140|             10615| 69840|\n",
      "|       Allen|        PA|Pennsylvania|      33.5|          60626|            59581|          120207|       19652|                  2.67|                             1076| 2670|                    22304|             59176| 74187|\n",
      "|    Amarillo|        TX|       Texas|      33.8|          99391|           100260|          199651|       21124|                  2.64|                             4260| 8563|                    14050|             65392|174214|\n",
      "|        Ames|        IA|        Iowa|      23.0|          33814|            31238|           65052|        8606|                  2.16|                             null| 8979|                     1103|              2024| 56157|\n",
      "|     Anaheim|        CA|  California|      33.6|         179603|           171135|          350738|      137133|                  3.45|                             2489|53270|                     9775|            201593|259820|\n",
      "|   Anchorage|        AK|      Alaska|      32.2|         152945|           145750|          298695|       33258|                  2.77|                            36339|36825|                    23107|             27261|212696|\n",
      "|   Ann Arbor|        MI|    Michigan|      28.1|          58789|            58281|          117070|       20717|                  2.17|                             1935|18797|                     9577|              5888| 90173|\n",
      "|     Antioch|        CA|  California|      34.0|          54733|            55809|          110542|       24942|                  3.31|                             3462|14333|                    23227|             35563| 51151|\n",
      "|Apple Valley|        CA|  California|      34.3|          32873|            39312|           72185|        5801|                  3.03|                             1446| 2281|                     9124|             25928| 60767|\n",
      "|    Appleton|        WI|   Wisconsin|      35.6|          37217|            38038|           75255|        4454|                  2.49|                              835| 5561|                     3407|              5139| 64674|\n",
      "|Arden-Arcade|        CA|  California|      41.5|          47596|            48680|           96276|       13458|                  2.18|                             2587| 7355|                    13647|             15273| 69369|\n",
      "+------------+----------+------------+----------+---------------+-----------------+----------------+------------+----------------------+---------------------------------+-----+-------------------------+------------------+------+\n",
      "only showing top 20 rows\n",
      "\n"
     ]
    }
   ],
   "source": [
    "# Checking data sample\n",
    "us.join(us_race_cnt, [\"city\",\"state code\"]).orderBy(\"city\").show()"
   ]
  },
  {
   "cell_type": "code",
   "execution_count": 16,
   "metadata": {
    "editable": true
   },
   "outputs": [],
   "source": [
    "# Finally saving (committing) joined US dataset\n",
    "us=us.join(us_race_cnt, [\"city\",\"state code\"])"
   ]
  },
  {
   "cell_type": "code",
   "execution_count": 17,
   "metadata": {
    "editable": true
   },
   "outputs": [
    {
     "name": "stdout",
     "output_type": "stream",
     "text": [
      "+---------------+----------+-----------+----------+---------------+-----------------+----------------+------------+----------------------+---------------------------------+-----+-------------------------+------------------+------+\n",
      "|           City|State Code|      State|Median Age|Male Population|Female Population|Total Population|Foreign-born|Average Household Size|American Indian and Alaska Native|Asian|Black or African-American|Hispanic or Latino| White|\n",
      "+---------------+----------+-----------+----------+---------------+-----------------+----------------+------------+----------------------+---------------------------------+-----+-------------------------+------------------+------+\n",
      "|Highlands Ranch|        CO|   Colorado|      39.6|          49186|            53281|          102467|        8827|                  2.72|                             1480| 5650|                     1779|              8393| 94499|\n",
      "|           Kent|        WA| Washington|      33.4|          61825|            65137|          126962|       38175|                  3.06|                             3651|26168|                    20450|             21928| 67918|\n",
      "|        Madison|        WI|  Wisconsin|      30.7|         122596|           126360|          248956|       30090|                  2.23|                             2296|23937|                    20424|             19697|204302|\n",
      "|         Denver|        CO|   Colorado|      34.1|         341137|           341408|          682545|      113222|                  2.33|                            14008|32491|                    72288|            207847|546370|\n",
      "|         Caguas|        PR|Puerto Rico|      40.4|          34743|            42265|           77008|        null|                  null|                              624| null|                     null|             76349|  null|\n",
      "+---------------+----------+-----------+----------+---------------+-----------------+----------------+------------+----------------------+---------------------------------+-----+-------------------------+------------------+------+\n",
      "only showing top 5 rows\n",
      "\n"
     ]
    },
    {
     "data": {
      "text/plain": [
       "(596, None)"
      ]
     },
     "execution_count": 17,
     "metadata": {},
     "output_type": "execute_result"
    }
   ],
   "source": [
    "# Another check\n",
    "(us.count(), us.show(5))"
   ]
  },
  {
   "cell_type": "code",
   "execution_count": 18,
   "metadata": {
    "editable": true
   },
   "outputs": [],
   "source": [
    "# Change `state code` column name to `state_code` and other similar problems to avoid parquet complications\n",
    "us=us.select('City', col('State Code').alias('State_Code'), 'State', col('Median Age').alias('Median_age'),\n",
    "     col('Male Population').alias('Male_Pop'), col('Female Population').alias('Fem_Pop'), \n",
    "        col('Total Population').alias('Ttl_Pop'), 'Foreign-born', \n",
    "          col('Average Household Size').alias('Avg_Household_Size'),\n",
    "             col('American Indian and Alaska Native').alias('Native_Pop'), \n",
    "                 col('Asian').alias('Asian_Pop'), \n",
    "                    col('Black or African-American').alias('Black_Pop'), \n",
    "                      col('Hispanic or Latino').alias('Latino_Pop'), \n",
    "                        col('White').alias('White_Pop'))"
   ]
  },
  {
   "cell_type": "code",
   "execution_count": 19,
   "metadata": {
    "editable": true
   },
   "outputs": [
    {
     "name": "stdout",
     "output_type": "stream",
     "text": [
      "+---------------+----------+----------+----------+--------+-------+-------+------------+------------------+----------+---------+---------+----------+---------+\n",
      "|           City|State_Code|     State|Median_age|Male_Pop|Fem_Pop|Ttl_Pop|Foreign-born|Avg_Household_Size|Native_Pop|Asian_Pop|Black_Pop|Latino_Pop|White_Pop|\n",
      "+---------------+----------+----------+----------+--------+-------+-------+------------+------------------+----------+---------+---------+----------+---------+\n",
      "|Highlands Ranch|        CO|  Colorado|      39.6|   49186|  53281| 102467|        8827|              2.72|      1480|     5650|     1779|      8393|    94499|\n",
      "|           Kent|        WA|Washington|      33.4|   61825|  65137| 126962|       38175|              3.06|      3651|    26168|    20450|     21928|    67918|\n",
      "+---------------+----------+----------+----------+--------+-------+-------+------------+------------------+----------+---------+---------+----------+---------+\n",
      "only showing top 2 rows\n",
      "\n"
     ]
    }
   ],
   "source": [
    "us.show(2)"
   ]
  },
  {
   "cell_type": "code",
   "execution_count": 20,
   "metadata": {
    "editable": true
   },
   "outputs": [],
   "source": [
    "# Drop the `state` column\n",
    "us=us.drop(\"state\")"
   ]
  },
  {
   "cell_type": "code",
   "execution_count": 21,
   "metadata": {
    "editable": true
   },
   "outputs": [
    {
     "data": {
      "text/plain": [
       "['City',\n",
       " 'State_Code',\n",
       " 'Median_age',\n",
       " 'Male_Pop',\n",
       " 'Fem_Pop',\n",
       " 'Ttl_Pop',\n",
       " 'Foreign-born',\n",
       " 'Avg_Household_Size',\n",
       " 'Native_Pop',\n",
       " 'Asian_Pop',\n",
       " 'Black_Pop',\n",
       " 'Latino_Pop',\n",
       " 'White_Pop']"
      ]
     },
     "execution_count": 21,
     "metadata": {},
     "output_type": "execute_result"
    }
   ],
   "source": [
    "us.columns"
   ]
  },
  {
   "cell_type": "code",
   "execution_count": 22,
   "metadata": {
    "editable": true
   },
   "outputs": [],
   "source": [
    "# Now write (and overwrite) transformed `US` dataset onto parquet file\n",
    "us.write.mode('overwrite').parquet(\"./data/us_cities_demographics.parquet\")"
   ]
  },
  {
   "cell_type": "markdown",
   "metadata": {
    "editable": true
   },
   "source": [
    "#### I94 NON-IMMIGRATION DATA SET (CLEANING AND TRANSFORMATION)"
   ]
  },
  {
   "cell_type": "code",
   "execution_count": 24,
   "metadata": {
    "editable": true
   },
   "outputs": [
    {
     "data": {
      "text/plain": [
       "['cicid',\n",
       " 'i94yr',\n",
       " 'i94mon',\n",
       " 'i94cit',\n",
       " 'i94res',\n",
       " 'i94port',\n",
       " 'arrdate',\n",
       " 'i94mode',\n",
       " 'i94addr',\n",
       " 'depdate',\n",
       " 'i94bir',\n",
       " 'i94visa',\n",
       " 'count',\n",
       " 'dtadfile',\n",
       " 'visapost',\n",
       " 'occup',\n",
       " 'entdepa',\n",
       " 'entdepd',\n",
       " 'entdepu',\n",
       " 'matflag',\n",
       " 'biryear',\n",
       " 'dtaddto',\n",
       " 'gender',\n",
       " 'insnum',\n",
       " 'airline',\n",
       " 'admnum',\n",
       " 'fltno',\n",
       " 'visatype']"
      ]
     },
     "execution_count": 24,
     "metadata": {},
     "output_type": "execute_result"
    }
   ],
   "source": [
    "# Read i94 non-immigration dataset\n",
    "i94_spark=spark.read.parquet(\"./data/sas_data\")\n",
    "i94_spark.columns"
   ]
  },
  {
   "cell_type": "code",
   "execution_count": 25,
   "metadata": {
    "editable": true
   },
   "outputs": [
    {
     "name": "stdout",
     "output_type": "stream",
     "text": [
      "+------+-------+-------+-------+-------+------+-------+-----+------+-----------+\n",
      "|i94res|i94port|arrdate|i94mode|depdate|i94bir|i94visa|count|gender|     admnum|\n",
      "+------+-------+-------+-------+-------+------+-------+-----+------+-----------+\n",
      "| 438.0|    LOS|20574.0|    1.0|20582.0|  40.0|    1.0|  1.0|     F|94953870030|\n",
      "| 438.0|    LOS|20574.0|    1.0|20591.0|  32.0|    1.0|  1.0|     F|94955622830|\n",
      "| 438.0|    LOS|20574.0|    1.0|20582.0|  29.0|    1.0|  1.0|     M|94956406530|\n",
      "+------+-------+-------+-------+-------+------+-------+-----+------+-----------+\n",
      "only showing top 3 rows\n",
      "\n"
     ]
    }
   ],
   "source": [
    "i94_spark.select(\"i94res\",\"i94port\",\"arrdate\",\"i94mode\",\"depdate\",\"i94bir\",\"i94visa\",\"count\" \\\n",
    "                  ,\"gender\",col(\"admnum\").cast(LongType())).show(3)"
   ]
  },
  {
   "cell_type": "code",
   "execution_count": 26,
   "metadata": {
    "editable": true
   },
   "outputs": [],
   "source": [
    "i94_spark=i94_spark.select(col(\"i94res\").cast(IntegerType()),col(\"i94port\"),\n",
    "                           col(\"arrdate\").cast(IntegerType()), \\\n",
    "                           col(\"i94mode\").cast(IntegerType()),col(\"depdate\").cast(IntegerType()),\n",
    "                           col(\"i94bir\").cast(IntegerType()),col(\"i94visa\").cast(IntegerType()), \n",
    "                           col(\"count\").cast(IntegerType()), \\\n",
    "                              \"gender\",col(\"admnum\").cast(LongType()))"
   ]
  },
  {
   "cell_type": "code",
   "execution_count": 27,
   "metadata": {
    "editable": true
   },
   "outputs": [
    {
     "name": "stdout",
     "output_type": "stream",
     "text": [
      "+------+-------+-------+-------+-------+------+-------+-----+------+-----------+\n",
      "|i94res|i94port|arrdate|i94mode|depdate|i94bir|i94visa|count|gender|     admnum|\n",
      "+------+-------+-------+-------+-------+------+-------+-----+------+-----------+\n",
      "|   438|    LOS|  20574|      1|  20582|    40|      1|    1|     F|94953870030|\n",
      "|   438|    LOS|  20574|      1|  20591|    32|      1|    1|     F|94955622830|\n",
      "|   438|    LOS|  20574|      1|  20582|    29|      1|    1|     M|94956406530|\n",
      "+------+-------+-------+-------+-------+------+-------+-----+------+-----------+\n",
      "only showing top 3 rows\n",
      "\n"
     ]
    }
   ],
   "source": [
    "i94_spark.show(3)"
   ]
  },
  {
   "cell_type": "code",
   "execution_count": 28,
   "metadata": {
    "editable": true
   },
   "outputs": [
    {
     "data": {
      "text/plain": [
       "(3096313, 3096302)"
      ]
     },
     "execution_count": 28,
     "metadata": {},
     "output_type": "execute_result"
    }
   ],
   "source": [
    "i94_spark.count(), i94_spark.dropDuplicates().count()\n"
   ]
  },
  {
   "cell_type": "code",
   "execution_count": 29,
   "metadata": {
    "editable": true
   },
   "outputs": [
    {
     "data": {
      "text/plain": [
       "3075579"
      ]
     },
     "execution_count": 29,
     "metadata": {},
     "output_type": "execute_result"
    }
   ],
   "source": [
    "i94_spark.dropDuplicates(['admnum']).count()"
   ]
  },
  {
   "cell_type": "code",
   "execution_count": 30,
   "metadata": {
    "editable": true
   },
   "outputs": [],
   "source": [
    "# We will drop duplicate rows and save it as final dataset for i94\n",
    "i94_spark=i94_spark.dropDuplicates()"
   ]
  },
  {
   "cell_type": "code",
   "execution_count": 31,
   "metadata": {
    "editable": true
   },
   "outputs": [
    {
     "name": "stdout",
     "output_type": "stream",
     "text": [
      "+------+-------+-------+-------+-------+------+-------+-----+------+-----------+\n",
      "|i94res|i94port|arrdate|i94mode|depdate|i94bir|i94visa|count|gender|     admnum|\n",
      "+------+-------+-------+-------+-------+------+-------+-----+------+-----------+\n",
      "|   582|    XXX|  20557|   null|  20558|    34|      2|    1|  null|91904214530|\n",
      "|   209|    AGA|  20552|      1|   null|  null|      2|    1|     M|47842155333|\n",
      "|   209|    ATL|  20571|      1|   null|  null|      2|    1|     M|44537883633|\n",
      "+------+-------+-------+-------+-------+------+-------+-----+------+-----------+\n",
      "only showing top 3 rows\n",
      "\n"
     ]
    }
   ],
   "source": [
    "i94_spark.show(3)\n"
   ]
  },
  {
   "cell_type": "markdown",
   "metadata": {
    "editable": true
   },
   "source": [
    "#### read in sas _labels for further processing"
   ]
  },
  {
   "cell_type": "code",
   "execution_count": 42,
   "metadata": {
    "editable": true
   },
   "outputs": [],
   "source": [
    "with open('./data/I94_SAS_Labels_Descriptions.SAS') as f:\n",
    "    f_content = f.read()\n",
    "    f_content = f_content.replace('\\t', '')\n",
    "def code_mapper(file, idx):\n",
    "    f_content2 = f_content[f_content.index(idx):]\n",
    "    f_content2 = f_content2[:f_content2.index(';')].split('\\n')\n",
    "    f_content2 = [i.replace(\"'\", \"\") for i in f_content2]\n",
    "    dic = [i.split('=') for i in f_content2[1:]]\n",
    "    dic = dict([i[0].strip(), i[1].strip()] for i in dic if len(i) == 2)\n",
    "    return dic\n",
    "i94cit_res = code_mapper(f_content, \"i94cntyl\")\n",
    "i94port = code_mapper(f_content, \"i94prtl\")\n",
    "i94mode = code_mapper(f_content, \"i94model\")\n",
    "i94addr = code_mapper(f_content, \"i94addrl\")\n",
    "i94visa = {'1':'Business',  '2': 'Pleasure', '3' : 'Student'}"
   ]
  },
  {
   "cell_type": "code",
   "execution_count": 43,
   "metadata": {
    "editable": true
   },
   "outputs": [
    {
     "name": "stdout",
     "output_type": "stream",
     "text": [
      "{'582': 'MEXICO Air Sea, and Not Reported (I-94, no land arrivals)', '236': 'AFGHANISTAN', '101': 'ALBANIA', '316': 'ALGERIA', '102': 'ANDORRA'}\n",
      "{'ALC': 'ALCAN, AK', 'ANC': 'ANCHORAGE, AK', 'BAR': 'BAKER AAF - BAKER ISLAND, AK', 'DAC': 'DALTONS CACHE, AK', 'PIZ': 'DEW STATION PT LAY DEW, AK'}\n",
      "{'1': 'Air', '2': 'Sea', '3': 'Land', '9': 'Not reported'}\n",
      "{'AL': 'ALABAMA', 'AK': 'ALASKA', 'AZ': 'ARIZONA', 'AR': 'ARKANSAS', 'CA': 'CALIFORNIA'}\n",
      "{'1': 'Business', '2': 'Pleasure', '3': 'Student'}\n"
     ]
    }
   ],
   "source": [
    "labeldescription = [i94cit_res, i94port, i94mode, i94addr, i94visa]\n",
    "for i in labeldescription:\n",
    "    print(dict(list(i.items())[0:5]))"
   ]
  },
  {
   "cell_type": "code",
   "execution_count": 44,
   "metadata": {
    "editable": true
   },
   "outputs": [],
   "source": []
  },
  {
   "cell_type": "code",
   "execution_count": 64,
   "metadata": {
    "collapsed": true,
    "editable": true,
    "jupyter": {
     "outputs_hidden": true
    }
   },
   "outputs": [
    {
     "data": {
      "text/plain": [
       "[['582', 'MEXICO Air Sea, and Not Reported (I-94, no land arrivals)'],\n",
       " ['236', 'AFGHANISTAN'],\n",
       " ['101', 'ALBANIA'],\n",
       " ['316', 'ALGERIA'],\n",
       " ['102', 'ANDORRA'],\n",
       " ['324', 'ANGOLA'],\n",
       " ['529', 'ANGUILLA'],\n",
       " ['518', 'ANTIGUA-BARBUDA'],\n",
       " ['687', 'ARGENTINA'],\n",
       " ['151', 'ARMENIA'],\n",
       " ['532', 'ARUBA'],\n",
       " ['438', 'AUSTRALIA'],\n",
       " ['103', 'AUSTRIA'],\n",
       " ['152', 'AZERBAIJAN'],\n",
       " ['512', 'BAHAMAS'],\n",
       " ['298', 'BAHRAIN'],\n",
       " ['274', 'BANGLADESH'],\n",
       " ['513', 'BARBADOS'],\n",
       " ['104', 'BELGIUM'],\n",
       " ['581', 'BELIZE'],\n",
       " ['386', 'BENIN'],\n",
       " ['509', 'BERMUDA'],\n",
       " ['153', 'BELARUS'],\n",
       " ['242', 'BHUTAN'],\n",
       " ['688', 'BOLIVIA'],\n",
       " ['717', 'BONAIRE, ST EUSTATIUS, SABA'],\n",
       " ['164', 'BOSNIA-HERZEGOVINA'],\n",
       " ['336', 'BOTSWANA'],\n",
       " ['689', 'BRAZIL'],\n",
       " ['525', 'BRITISH VIRGIN ISLANDS'],\n",
       " ['217', 'BRUNEI'],\n",
       " ['105', 'BULGARIA'],\n",
       " ['393', 'BURKINA FASO'],\n",
       " ['243', 'BURMA'],\n",
       " ['375', 'BURUNDI'],\n",
       " ['310', 'CAMEROON'],\n",
       " ['326', 'CAPE VERDE'],\n",
       " ['526', 'CAYMAN ISLANDS'],\n",
       " ['383', 'CENTRAL AFRICAN REPUBLIC'],\n",
       " ['384', 'CHAD'],\n",
       " ['690', 'CHILE'],\n",
       " ['245', 'CHINA, PRC'],\n",
       " ['721', 'CURACAO'],\n",
       " ['270', 'CHRISTMAS ISLAND'],\n",
       " ['271', 'COCOS ISLANDS'],\n",
       " ['691', 'COLOMBIA'],\n",
       " ['317', 'COMOROS'],\n",
       " ['385', 'CONGO'],\n",
       " ['467', 'COOK ISLANDS'],\n",
       " ['575', 'COSTA RICA'],\n",
       " ['165', 'CROATIA'],\n",
       " ['584', 'CUBA'],\n",
       " ['218', 'CYPRUS'],\n",
       " ['140', 'CZECH REPUBLIC'],\n",
       " ['723', 'FAROE ISLANDS (PART OF DENMARK)'],\n",
       " ['108', 'DENMARK'],\n",
       " ['322', 'DJIBOUTI'],\n",
       " ['519', 'DOMINICA'],\n",
       " ['585', 'DOMINICAN REPUBLIC'],\n",
       " ['240', 'EAST TIMOR'],\n",
       " ['692', 'ECUADOR'],\n",
       " ['368', 'EGYPT'],\n",
       " ['576', 'EL SALVADOR'],\n",
       " ['399', 'EQUATORIAL GUINEA'],\n",
       " ['372', 'ERITREA'],\n",
       " ['109', 'ESTONIA'],\n",
       " ['369', 'ETHIOPIA'],\n",
       " ['604', 'FALKLAND ISLANDS'],\n",
       " ['413', 'FIJI'],\n",
       " ['110', 'FINLAND'],\n",
       " ['111', 'FRANCE'],\n",
       " ['601', 'FRENCH GUIANA'],\n",
       " ['411', 'FRENCH POLYNESIA'],\n",
       " ['387', 'GABON'],\n",
       " ['338', 'GAMBIA'],\n",
       " ['758', 'GAZA STRIP'],\n",
       " ['154', 'GEORGIA'],\n",
       " ['112', 'GERMANY'],\n",
       " ['339', 'GHANA'],\n",
       " ['143', 'GIBRALTAR'],\n",
       " ['113', 'GREECE'],\n",
       " ['520', 'GRENADA'],\n",
       " ['507', 'GUADELOUPE'],\n",
       " ['577', 'GUATEMALA'],\n",
       " ['382', 'GUINEA'],\n",
       " ['327', 'GUINEA-BISSAU'],\n",
       " ['603', 'GUYANA'],\n",
       " ['586', 'HAITI'],\n",
       " ['726', 'HEARD AND MCDONALD IS.'],\n",
       " ['149', 'HOLY SEE/VATICAN'],\n",
       " ['528', 'HONDURAS'],\n",
       " ['206', 'HONG KONG'],\n",
       " ['114', 'HUNGARY'],\n",
       " ['115', 'ICELAND'],\n",
       " ['213', 'INDIA'],\n",
       " ['759', 'INDIAN OCEAN AREAS (FRENCH)'],\n",
       " ['729', 'INDIAN OCEAN TERRITORY'],\n",
       " ['204', 'INDONESIA'],\n",
       " ['249', 'IRAN'],\n",
       " ['250', 'IRAQ'],\n",
       " ['116', 'IRELAND'],\n",
       " ['251', 'ISRAEL'],\n",
       " ['117', 'ITALY'],\n",
       " ['388', 'IVORY COAST'],\n",
       " ['514', 'JAMAICA'],\n",
       " ['209', 'JAPAN'],\n",
       " ['253', 'JORDAN'],\n",
       " ['201', 'KAMPUCHEA'],\n",
       " ['155', 'KAZAKHSTAN'],\n",
       " ['340', 'KENYA'],\n",
       " ['414', 'KIRIBATI'],\n",
       " ['732', 'KOSOVO'],\n",
       " ['272', 'KUWAIT'],\n",
       " ['156', 'KYRGYZSTAN'],\n",
       " ['203', 'LAOS'],\n",
       " ['118', 'LATVIA'],\n",
       " ['255', 'LEBANON'],\n",
       " ['335', 'LESOTHO'],\n",
       " ['370', 'LIBERIA'],\n",
       " ['381', 'LIBYA'],\n",
       " ['119', 'LIECHTENSTEIN'],\n",
       " ['120', 'LITHUANIA'],\n",
       " ['121', 'LUXEMBOURG'],\n",
       " ['214', 'MACAU'],\n",
       " ['167', 'MACEDONIA'],\n",
       " ['320', 'MADAGASCAR'],\n",
       " ['345', 'MALAWI'],\n",
       " ['273', 'MALAYSIA'],\n",
       " ['220', 'MALDIVES'],\n",
       " ['392', 'MALI'],\n",
       " ['145', 'MALTA'],\n",
       " ['472', 'MARSHALL ISLANDS'],\n",
       " ['511', 'MARTINIQUE'],\n",
       " ['389', 'MAURITANIA'],\n",
       " ['342', 'MAURITIUS'],\n",
       " ['760', 'MAYOTTE (AFRICA - FRENCH)'],\n",
       " ['473', 'MICRONESIA, FED. STATES OF'],\n",
       " ['157', 'MOLDOVA'],\n",
       " ['122', 'MONACO'],\n",
       " ['299', 'MONGOLIA'],\n",
       " ['735', 'MONTENEGRO'],\n",
       " ['521', 'MONTSERRAT'],\n",
       " ['332', 'MOROCCO'],\n",
       " ['329', 'MOZAMBIQUE'],\n",
       " ['371', 'NAMIBIA'],\n",
       " ['440', 'NAURU'],\n",
       " ['257', 'NEPAL'],\n",
       " ['123', 'NETHERLANDS'],\n",
       " ['508', 'NETHERLANDS ANTILLES'],\n",
       " ['409', 'NEW CALEDONIA'],\n",
       " ['464', 'NEW ZEALAND'],\n",
       " ['579', 'NICARAGUA'],\n",
       " ['390', 'NIGER'],\n",
       " ['343', 'NIGERIA'],\n",
       " ['470', 'NIUE'],\n",
       " ['275', 'NORTH KOREA'],\n",
       " ['124', 'NORWAY'],\n",
       " ['256', 'OMAN'],\n",
       " ['258', 'PAKISTAN'],\n",
       " ['474', 'PALAU'],\n",
       " ['743', 'PALESTINE'],\n",
       " ['504', 'PANAMA'],\n",
       " ['441', 'PAPUA NEW GUINEA'],\n",
       " ['693', 'PARAGUAY'],\n",
       " ['694', 'PERU'],\n",
       " ['260', 'PHILIPPINES'],\n",
       " ['416', 'PITCAIRN ISLANDS'],\n",
       " ['107', 'POLAND'],\n",
       " ['126', 'PORTUGAL'],\n",
       " ['297', 'QATAR'],\n",
       " ['748', 'REPUBLIC OF SOUTH SUDAN'],\n",
       " ['321', 'REUNION'],\n",
       " ['127', 'ROMANIA'],\n",
       " ['158', 'RUSSIA'],\n",
       " ['376', 'RWANDA'],\n",
       " ['128', 'SAN MARINO'],\n",
       " ['330', 'SAO TOME AND PRINCIPE'],\n",
       " ['261', 'SAUDI ARABIA'],\n",
       " ['391', 'SENEGAL'],\n",
       " ['142', 'SERBIA AND MONTENEGRO'],\n",
       " ['745', 'SERBIA'],\n",
       " ['347', 'SEYCHELLES'],\n",
       " ['348', 'SIERRA LEONE'],\n",
       " ['207', 'SINGAPORE'],\n",
       " ['141', 'SLOVAKIA'],\n",
       " ['166', 'SLOVENIA'],\n",
       " ['412', 'SOLOMON ISLANDS'],\n",
       " ['397', 'SOMALIA'],\n",
       " ['373', 'SOUTH AFRICA'],\n",
       " ['276', 'SOUTH KOREA'],\n",
       " ['129', 'SPAIN'],\n",
       " ['244', 'SRI LANKA'],\n",
       " ['346', 'ST. HELENA'],\n",
       " ['522', 'ST. KITTS-NEVIS'],\n",
       " ['523', 'ST. LUCIA'],\n",
       " ['502', 'ST. PIERRE AND MIQUELON'],\n",
       " ['524', 'ST. VINCENT-GRENADINES'],\n",
       " ['716', 'SAINT BARTHELEMY'],\n",
       " ['736', 'SAINT MARTIN'],\n",
       " ['749', 'SAINT MAARTEN'],\n",
       " ['350', 'SUDAN'],\n",
       " ['602', 'SURINAME'],\n",
       " ['351', 'SWAZILAND'],\n",
       " ['130', 'SWEDEN'],\n",
       " ['131', 'SWITZERLAND'],\n",
       " ['262', 'SYRIA'],\n",
       " ['268', 'TAIWAN'],\n",
       " ['159', 'TAJIKISTAN'],\n",
       " ['353', 'TANZANIA'],\n",
       " ['263', 'THAILAND'],\n",
       " ['304', 'TOGO'],\n",
       " ['417', 'TONGA'],\n",
       " ['516', 'TRINIDAD AND TOBAGO'],\n",
       " ['323', 'TUNISIA'],\n",
       " ['264', 'TURKEY'],\n",
       " ['161', 'TURKMENISTAN'],\n",
       " ['527', 'TURKS AND CAICOS ISLANDS'],\n",
       " ['420', 'TUVALU'],\n",
       " ['352', 'UGANDA'],\n",
       " ['162', 'UKRAINE'],\n",
       " ['296', 'UNITED ARAB EMIRATES'],\n",
       " ['135', 'UNITED KINGDOM'],\n",
       " ['695', 'URUGUAY'],\n",
       " ['163', 'UZBEKISTAN'],\n",
       " ['410', 'VANUATU'],\n",
       " ['696', 'VENEZUELA'],\n",
       " ['266', 'VIETNAM'],\n",
       " ['469', 'WALLIS AND FUTUNA ISLANDS'],\n",
       " ['757', 'WEST INDIES (FRENCH)'],\n",
       " ['333', 'WESTERN SAHARA'],\n",
       " ['465', 'WESTERN SAMOA'],\n",
       " ['216', 'YEMEN'],\n",
       " ['139', 'YUGOSLAVIA'],\n",
       " ['301', 'ZAIRE'],\n",
       " ['344', 'ZAMBIA'],\n",
       " ['315', 'ZIMBABWE'],\n",
       " ['403', 'INVALID: AMERICAN SAMOA'],\n",
       " ['712', 'INVALID: ANTARCTICA'],\n",
       " ['700', 'INVALID: BORN ON BOARD SHIP'],\n",
       " ['719', 'INVALID: BOUVET ISLAND (ANTARCTICA/NORWAY TERR.)'],\n",
       " ['574', 'INVALID: CANADA'],\n",
       " ['720', 'INVALID: CANTON AND ENDERBURY ISLS'],\n",
       " ['106', 'INVALID: CZECHOSLOVAKIA'],\n",
       " ['739', 'INVALID: DRONNING MAUD LAND (ANTARCTICA-NORWAY)'],\n",
       " ['394', 'INVALID: FRENCH SOUTHERN AND ANTARCTIC'],\n",
       " ['501', 'INVALID: GREENLAND'],\n",
       " ['404', 'INVALID: GUAM'],\n",
       " ['730', 'INVALID: INTERNATIONAL WATERS'],\n",
       " ['731', 'INVALID: JOHNSON ISLAND'],\n",
       " ['471', 'INVALID: MARIANA ISLANDS, NORTHERN'],\n",
       " ['737', 'INVALID: MIDWAY ISLANDS'],\n",
       " ['753', 'INVALID: MINOR OUTLYING ISLANDS - USA'],\n",
       " ['740', 'INVALID: NEUTRAL ZONE (S. ARABIA/IRAQ)'],\n",
       " ['710', 'INVALID: NON-QUOTA IMMIGRANT'],\n",
       " ['505', 'INVALID: PUERTO RICO'],\n",
       " ['0', 'INVALID: STATELESS'],\n",
       " ['705', 'INVALID: STATELESS'],\n",
       " ['583', 'INVALID: UNITED STATES'],\n",
       " ['407', 'INVALID: UNITED STATES'],\n",
       " ['999', 'INVALID: UNKNOWN'],\n",
       " ['239', 'INVALID: UNKNOWN COUNTRY'],\n",
       " ['134', 'INVALID: USSR'],\n",
       " ['506', 'INVALID: U.S. VIRGIN ISLANDS'],\n",
       " ['755', 'INVALID: WAKE ISLAND'],\n",
       " ['311', 'Collapsed Tanzania (should not show)'],\n",
       " ['741', 'Collapsed Curacao (should not show)'],\n",
       " ['54', 'No Country Code (54)'],\n",
       " ['100', 'No Country Code (100)'],\n",
       " ['187', 'No Country Code (187)'],\n",
       " ['190', 'No Country Code (190)'],\n",
       " ['200', 'No Country Code (200)'],\n",
       " ['219', 'No Country Code (219)'],\n",
       " ['238', 'No Country Code (238)'],\n",
       " ['277', 'No Country Code (277)'],\n",
       " ['293', 'No Country Code (293)'],\n",
       " ['300', 'No Country Code (300)'],\n",
       " ['319', 'No Country Code (319)'],\n",
       " ['365', 'No Country Code (365)'],\n",
       " ['395', 'No Country Code (395)'],\n",
       " ['400', 'No Country Code (400)'],\n",
       " ['485', 'No Country Code (485)'],\n",
       " ['503', 'No Country Code (503)'],\n",
       " ['589', 'No Country Code (589)'],\n",
       " ['592', 'No Country Code (592)'],\n",
       " ['791', 'No Country Code (791)'],\n",
       " ['849', 'No Country Code (849)'],\n",
       " ['914', 'No Country Code (914)'],\n",
       " ['944', 'No Country Code (944)'],\n",
       " ['996', 'No Country Code (996)']]"
      ]
     },
     "execution_count": 64,
     "metadata": {},
     "output_type": "execute_result"
    }
   ],
   "source": []
  },
  {
   "cell_type": "markdown",
   "metadata": {
    "editable": true
   },
   "source": [
    "#### Performing cleaning tasks for i94 code lists and creating dimension tables"
   ]
  },
  {
   "cell_type": "code",
   "execution_count": 32,
   "metadata": {
    "editable": true
   },
   "outputs": [],
   "source": [
    "\n",
    "# Start processing the I9I94_SAS_Labels_Description.SAS to create master i94 code dimensions:\n",
    "\n",
    "'''\n",
    "/* I94MODE - There are missing values as well as not reported (9) */\n",
    "\t1 = 'Air'\n",
    "\t2 = 'Sea'\n",
    "\t3 = 'Land'\n",
    "\t9 = 'Not reported' ;\n",
    "'''\n",
    "# Create i94mode list\n",
    "i94mode_data =[[1,'Air'],[2,'Sea'],[3,'Land'],[9,'Not reported']]\n",
    "\n",
    "# Convert to spark dataframe\n",
    "i94mode=spark.createDataFrame(i94mode_data)\n",
    "\n",
    "# Create i94mode parquet file\n",
    "i94mode.write.mode(\"overwrite\").parquet('./data/i94mode.parquet')"
   ]
  },
  {
   "cell_type": "code",
   "execution_count": null,
   "metadata": {
    "editable": true
   },
   "outputs": [],
   "source": [
    "df = pd.DataFrame(list(i94port.items()),columns = ['id','port_city']) \n",
    "df = pd.concat([df, df['port_city'].str.split(', ', expand=True)], axis=1).drop(columns=['port_city', 2]).rename(columns={0: 'city', 1: 'state'}).set_index('id')\n",
    "df.to_csv('./data/i94port.csv')"
   ]
  },
  {
   "cell_type": "code",
   "execution_count": 56,
   "metadata": {
    "editable": true
   },
   "outputs": [],
   "source": [
    "# Read i94port text file\n",
    "i94port_df = pd.read_csv('./data/i94port.csv')"
   ]
  },
  {
   "cell_type": "code",
   "execution_count": 57,
   "metadata": {
    "editable": true
   },
   "outputs": [
    {
     "name": "stdout",
     "output_type": "stream",
     "text": [
      "<class 'pandas.core.frame.DataFrame'>\n",
      "RangeIndex: 660 entries, 0 to 659\n",
      "Data columns (total 3 columns):\n",
      "id       660 non-null object\n",
      "city     660 non-null object\n",
      "state    582 non-null object\n",
      "dtypes: object(3)\n",
      "memory usage: 15.5+ KB\n"
     ]
    }
   ],
   "source": [
    "i94port_df.info()"
   ]
  },
  {
   "cell_type": "code",
   "execution_count": 58,
   "metadata": {
    "editable": true
   },
   "outputs": [],
   "source": [
    "i94port_data=i94port_df.values.tolist()"
   ]
  },
  {
   "cell_type": "code",
   "execution_count": 59,
   "metadata": {
    "editable": true
   },
   "outputs": [],
   "source": [
    "# Now convert list to spark dataframe\n",
    "# Create a schema for the dataframe\n",
    "i94port_schema = StructType([\n",
    "    StructField('id', StringType(), True),\n",
    "    StructField('port_city', StringType(), True),\n",
    "    StructField('port_state', StringType(), True)\n",
    "])\n",
    "i94port=spark.createDataFrame(i94port_data, i94port_schema)"
   ]
  },
  {
   "cell_type": "code",
   "execution_count": 60,
   "metadata": {
    "editable": true
   },
   "outputs": [],
   "source": [
    "# Create parquet file\n",
    "i94port.write.mode('overwrite').parquet('./data/i94port.parquet')"
   ]
  },
  {
   "cell_type": "code",
   "execution_count": 65,
   "metadata": {
    "editable": true
   },
   "outputs": [],
   "source": [
    "i94res_df = pd.DataFrame(list(i94cit_res.items()),columns = ['id','country']) \n",
    "#Remove whitespaces and single quotes\n",
    "#i94res_df['country']=i94res_df['country'].str.replace(\"'\",'').str.strip()\n",
    "# Convert pandas dataframe to list (objects which had single quotes removed automatically become string again with single quotes)\n",
    "i94res_data=i94res_df.values.tolist()"
   ]
  },
  {
   "cell_type": "code",
   "execution_count": 66,
   "metadata": {
    "editable": true
   },
   "outputs": [],
   "source": [
    "# Now convert list to spark dataframe\n",
    "# Create a schema for the dataframe\n",
    "i94res_schema = StructType([\n",
    "    StructField('id', StringType(), True),\n",
    "    StructField('country', StringType(), True)\n",
    "])\n",
    "i94res=spark.createDataFrame(i94res_data, i94res_schema)"
   ]
  },
  {
   "cell_type": "code",
   "execution_count": 67,
   "metadata": {
    "editable": true
   },
   "outputs": [],
   "source": [
    "# Create parquet file\n",
    "i94res.write.mode('overwrite').parquet('./data/i94res.parquet')"
   ]
  },
  {
   "cell_type": "code",
   "execution_count": 68,
   "metadata": {
    "editable": true
   },
   "outputs": [],
   "source": [
    "'''/* I94VISA - Visa codes collapsed into three categories:\n",
    "   1 = Business\n",
    "   2 = Pleasure\n",
    "   3 = Student\n",
    "*/'''\n",
    "i94visa_data = [[1, 'Business'], [2, 'Pleasure'], [3, 'Student']]"
   ]
  },
  {
   "cell_type": "code",
   "execution_count": 69,
   "metadata": {
    "editable": true
   },
   "outputs": [],
   "source": [
    "# Convert to spark dataframe\n",
    "i94visa=spark.createDataFrame(i94visa_data)"
   ]
  },
  {
   "cell_type": "code",
   "execution_count": 70,
   "metadata": {
    "editable": true
   },
   "outputs": [],
   "source": [
    "\n",
    "# Create parquet file\n",
    "i94visa.write.mode('overwrite').parquet('./data/i94visa.parquet')"
   ]
  },
  {
   "cell_type": "code",
   "execution_count": 71,
   "metadata": {
    "editable": true
   },
   "outputs": [
    {
     "name": "stdout",
     "output_type": "stream",
     "text": [
      "+---------------+----------+----------+--------+-------+-------+------------+------------------+----------+---------+---------+----------+---------+\n",
      "|           City|State_Code|Median_age|Male_Pop|Fem_Pop|Ttl_Pop|Foreign-born|Avg_Household_Size|Native_Pop|Asian_Pop|Black_Pop|Latino_Pop|White_Pop|\n",
      "+---------------+----------+----------+--------+-------+-------+------------+------------------+----------+---------+---------+----------+---------+\n",
      "|Highlands Ranch|        CO|      39.6|   49186|  53281| 102467|        8827|              2.72|      1480|     5650|     1779|      8393|    94499|\n",
      "|           Kent|        WA|      33.4|   61825|  65137| 126962|       38175|              3.06|      3651|    26168|    20450|     21928|    67918|\n",
      "|        Madison|        WI|      30.7|  122596| 126360| 248956|       30090|              2.23|      2296|    23937|    20424|     19697|   204302|\n",
      "+---------------+----------+----------+--------+-------+-------+------------+------------------+----------+---------+---------+----------+---------+\n",
      "only showing top 3 rows\n",
      "\n"
     ]
    }
   ],
   "source": [
    "\n",
    "us.show(3)"
   ]
  },
  {
   "cell_type": "code",
   "execution_count": 72,
   "metadata": {
    "editable": true
   },
   "outputs": [
    {
     "data": {
      "text/plain": [
       "['i94res',\n",
       " 'i94port',\n",
       " 'arrdate',\n",
       " 'i94mode',\n",
       " 'depdate',\n",
       " 'i94bir',\n",
       " 'i94visa',\n",
       " 'count',\n",
       " 'gender',\n",
       " 'admnum']"
      ]
     },
     "execution_count": 72,
     "metadata": {},
     "output_type": "execute_result"
    }
   ],
   "source": [
    "i94_spark.columns"
   ]
  },
  {
   "cell_type": "code",
   "execution_count": 73,
   "metadata": {
    "editable": true
   },
   "outputs": [
    {
     "data": {
      "text/plain": [
       "3096302"
      ]
     },
     "execution_count": 73,
     "metadata": {},
     "output_type": "execute_result"
    }
   ],
   "source": [
    "# Add i94port city and state columns to i94 dataframe\n",
    "i94_spark.join(i94port, i94_spark.i94port==i94port.id, how='left').count()"
   ]
  },
  {
   "cell_type": "code",
   "execution_count": 74,
   "metadata": {
    "editable": true
   },
   "outputs": [],
   "source": [
    "# Commit i94_spark\n",
    "i94_spark=i94_spark.join(i94port, i94_spark.i94port==i94port.id, how='left')"
   ]
  },
  {
   "cell_type": "code",
   "execution_count": 75,
   "metadata": {
    "editable": true
   },
   "outputs": [
    {
     "name": "stdout",
     "output_type": "stream",
     "text": [
      "+------+-------+-------+-------+-------+------+-------+-----+------+-----------+---+---------+----------+\n",
      "|i94res|i94port|arrdate|i94mode|depdate|i94bir|i94visa|count|gender|     admnum| id|port_city|port_state|\n",
      "+------+-------+-------+-------+-------+------+-------+-----+------+-----------+---+---------+----------+\n",
      "|   110|    BGM|  20550|      1|  20556|    36|      1|    1|     F|92847893530|BGM|   BANGOR|        ME|\n",
      "|   108|    BGM|  20569|      1|  20571|    43|      1|    1|     M|59234302533|BGM|   BANGOR|        ME|\n",
      "|   129|    BGM|  20559|      1|  20584|    67|      1|    1|     M|93553405030|BGM|   BANGOR|        ME|\n",
      "|   261|    BGM|  20568|      1|   null|     9|      1|    1|     M|94455571030|BGM|   BANGOR|        ME|\n",
      "|   135|    BGM|  20564|      1|  20569|    30|      2|    1|     M|94033156330|BGM|   BANGOR|        ME|\n",
      "|   111|    BGM|  20563|      1|  20567|    56|      1|    1|     M|93951299930|BGM|   BANGOR|        ME|\n",
      "|   582|    BGM|  20563|      1|  20575|    57|      1|    1|     M|93924664230|BGM|   BANGOR|        ME|\n",
      "|   373|    BGM|  20547|      1|  20549|    55|      1|    1|     M|92692756930|BGM|   BANGOR|        ME|\n",
      "|   127|    BGM|  20571|      1|  20661|    27|      1|    1|     F|94670010530|BGM|   BANGOR|        ME|\n",
      "|   582|    BGM|  20566|      1|  20567|    42|      1|    1|     M|94251980230|BGM|   BANGOR|        ME|\n",
      "|   124|    BGM|  20547|      1|  20549|    38|      1|    1|     M|92692552430|BGM|   BANGOR|        ME|\n",
      "|   135|    BGM|  20564|      1|  20569|    33|      2|    1|     M|94033775030|BGM|   BANGOR|        ME|\n",
      "|   108|    BGM|  20569|      1|  20571|    40|      1|    1|     M|94510578330|BGM|   BANGOR|        ME|\n",
      "|   135|    BGM|  20565|      1|  20581|    34|      2|    1|     F|56546213233|BGM|   BANGOR|        ME|\n",
      "|   135|    BGM|  20547|      1|  20687|    69|      1|    1|     M|92664011030|BGM|   BANGOR|        ME|\n",
      "|   158|    BGM|  20547|      1|  20550|    15|      2|    1|     F|92609680230|BGM|   BANGOR|        ME|\n",
      "|   135|    BGM|  20556|      1|  20557|    63|      1|    1|     M|93334238330|BGM|   BANGOR|        ME|\n",
      "|   112|    BGM|  20566|      1|  20581|    45|      1|    1|     M|94264768730|BGM|   BANGOR|        ME|\n",
      "|   135|    BGM|  20547|      1|  20678|    62|      2|    1|     M|92648354430|BGM|   BANGOR|        ME|\n",
      "|   135|    BGM|  20564|      1|  20569|    36|      2|    1|     M|94033624830|BGM|   BANGOR|        ME|\n",
      "+------+-------+-------+-------+-------+------+-------+-----+------+-----------+---+---------+----------+\n",
      "only showing top 20 rows\n",
      "\n"
     ]
    }
   ],
   "source": [
    "i94_spark.show()\n"
   ]
  },
  {
   "cell_type": "code",
   "execution_count": 76,
   "metadata": {
    "editable": true
   },
   "outputs": [],
   "source": [
    "\n",
    "# Drop `id` column\n",
    "i94_spark=i94_spark.drop(\"id\")"
   ]
  },
  {
   "cell_type": "code",
   "execution_count": 77,
   "metadata": {
    "editable": true
   },
   "outputs": [
    {
     "data": {
      "text/plain": [
       "['i94res',\n",
       " 'i94port',\n",
       " 'arrdate',\n",
       " 'i94mode',\n",
       " 'depdate',\n",
       " 'i94bir',\n",
       " 'i94visa',\n",
       " 'count',\n",
       " 'gender',\n",
       " 'admnum',\n",
       " 'port_city',\n",
       " 'port_state']"
      ]
     },
     "execution_count": 77,
     "metadata": {},
     "output_type": "execute_result"
    }
   ],
   "source": [
    "i94_spark.columns\n"
   ]
  },
  {
   "cell_type": "code",
   "execution_count": 78,
   "metadata": {
    "editable": true
   },
   "outputs": [
    {
     "data": {
      "text/plain": [
       "['City',\n",
       " 'State_Code',\n",
       " 'Median_age',\n",
       " 'Male_Pop',\n",
       " 'Fem_Pop',\n",
       " 'Ttl_Pop',\n",
       " 'Foreign-born',\n",
       " 'Avg_Household_Size',\n",
       " 'Native_Pop',\n",
       " 'Asian_Pop',\n",
       " 'Black_Pop',\n",
       " 'Latino_Pop',\n",
       " 'White_Pop']"
      ]
     },
     "execution_count": 78,
     "metadata": {},
     "output_type": "execute_result"
    }
   ],
   "source": [
    "us.columns\n"
   ]
  },
  {
   "cell_type": "code",
   "execution_count": 79,
   "metadata": {
    "editable": true
   },
   "outputs": [],
   "source": [
    "\n",
    "# Join US with i94_spark to get fact table `i94non_immigrant_port_entry`\n",
    "# NOTE: We use left join againt city records which may cause null values because\n",
    "# we may not currently have demographic stats on all U.S. ports of entry\n",
    "i94non_immigrant_port_entry=i94_spark.join(us, (upper(i94_spark.port_city)==upper(us.City)) & \\\n",
    "                                           (upper(i94_spark.port_state)==upper(us.State_Code)), how='left')"
   ]
  },
  {
   "cell_type": "code",
   "execution_count": 80,
   "metadata": {
    "editable": true
   },
   "outputs": [
    {
     "data": {
      "text/plain": [
       "3096302"
      ]
     },
     "execution_count": 80,
     "metadata": {},
     "output_type": "execute_result"
    }
   ],
   "source": [
    "i94non_immigrant_port_entry.count()"
   ]
  },
  {
   "cell_type": "code",
   "execution_count": 81,
   "metadata": {
    "editable": true
   },
   "outputs": [
    {
     "data": {
      "text/plain": [
       "['i94res',\n",
       " 'i94port',\n",
       " 'arrdate',\n",
       " 'i94mode',\n",
       " 'depdate',\n",
       " 'i94bir',\n",
       " 'i94visa',\n",
       " 'count',\n",
       " 'gender',\n",
       " 'admnum',\n",
       " 'port_city',\n",
       " 'port_state',\n",
       " 'City',\n",
       " 'State_Code',\n",
       " 'Median_age',\n",
       " 'Male_Pop',\n",
       " 'Fem_Pop',\n",
       " 'Ttl_Pop',\n",
       " 'Foreign-born',\n",
       " 'Avg_Household_Size',\n",
       " 'Native_Pop',\n",
       " 'Asian_Pop',\n",
       " 'Black_Pop',\n",
       " 'Latino_Pop',\n",
       " 'White_Pop']"
      ]
     },
     "execution_count": 81,
     "metadata": {},
     "output_type": "execute_result"
    }
   ],
   "source": [
    "\n",
    "i94non_immigrant_port_entry.columns"
   ]
  },
  {
   "cell_type": "code",
   "execution_count": 82,
   "metadata": {
    "editable": true
   },
   "outputs": [],
   "source": [
    "# Drop City and State_Code\n",
    "i94non_immigrant_port_entry=i94non_immigrant_port_entry.drop(\"City\",\"State_Code\")"
   ]
  },
  {
   "cell_type": "code",
   "execution_count": 83,
   "metadata": {
    "editable": true
   },
   "outputs": [
    {
     "name": "stdout",
     "output_type": "stream",
     "text": [
      "+------+-------+-------+-------+-------+------+-------+-----+------+-----------+---------+----------+----------+--------+-------+-------+------------+------------------+----------+---------+---------+----------+---------+\n",
      "|i94res|i94port|arrdate|i94mode|depdate|i94bir|i94visa|count|gender|     admnum|port_city|port_state|Median_age|Male_Pop|Fem_Pop|Ttl_Pop|Foreign-born|Avg_Household_Size|Native_Pop|Asian_Pop|Black_Pop|Latino_Pop|White_Pop|\n",
      "+------+-------+-------+-------+-------+------+-------+-----+------+-----------+---------+----------+----------+--------+-------+-------+------------+------------------+----------+---------+---------+----------+---------+\n",
      "|   103|    NEC|  20556|      3|  20557|    51|      2|    1|     F|  788711085|    NECHE|        ND|      null|    null|   null|   null|        null|              null|      null|     null|     null|      null|     null|\n",
      "|   112|    NEC|  20573|      3|  20575|    32|      2|    1|     F|59477349333|    NECHE|        ND|      null|    null|   null|   null|        null|              null|      null|     null|     null|      null|     null|\n",
      "|   245|    LEW|  20574|      3|  20576|    21|      2|    1|     F|94960311530| LEWISTON|        NY|      null|    null|   null|   null|        null|              null|      null|     null|     null|      null|     null|\n",
      "|   245|    LEW|  20546|      3|   null|    27|      3|    1|     F|71136033030| LEWISTON|        NY|      null|    null|   null|   null|        null|              null|      null|     null|     null|      null|     null|\n",
      "|   263|    LEW|  20559|      3|  20561|    38|      2|    1|  null|93151263430| LEWISTON|        NY|      null|    null|   null|   null|        null|              null|      null|     null|     null|      null|     null|\n",
      "|   514|    LEW|  20574|      3|  20596|    38|      2|    1|     F|94972653530| LEWISTON|        NY|      null|    null|   null|   null|        null|              null|      null|     null|     null|      null|     null|\n",
      "|   112|    LEW|  20560|      3|   null|    48|      2|    1|     M|17269695927| LEWISTON|        NY|      null|    null|   null|   null|        null|              null|      null|     null|     null|      null|     null|\n",
      "|   514|    LEW|  20552|      3|  20554|    52|      2|    1|     F|  745535185| LEWISTON|        NY|      null|    null|   null|   null|        null|              null|      null|     null|     null|      null|     null|\n",
      "|   260|    LEW|  20559|      3|  20561|    53|      2|    1|     F|80354257630| LEWISTON|        NY|      null|    null|   null|   null|        null|              null|      null|     null|     null|      null|     null|\n",
      "|   206|    LEW|  20549|      3|  20554|    20|      2|    1|     F|91281323030| LEWISTON|        NY|      null|    null|   null|   null|        null|              null|      null|     null|     null|      null|     null|\n",
      "|   213|    LEW|  20573|      3|  20575|    31|      2|    1|     F|79211218230| LEWISTON|        NY|      null|    null|   null|   null|        null|              null|      null|     null|     null|      null|     null|\n",
      "|   274|    LEW|  20573|      3|  20576|    31|      2|    1|     M|94859874130| LEWISTON|        NY|      null|    null|   null|   null|        null|              null|      null|     null|     null|      null|     null|\n",
      "|   213|    LEW|  20573|      3|  20576|    34|      2|    1|     M|94831519930| LEWISTON|        NY|      null|    null|   null|   null|        null|              null|      null|     null|     null|      null|     null|\n",
      "|   276|    LEW|  20560|      3|  20574|    35|      3|    1|     F|77790902930| LEWISTON|        NY|      null|    null|   null|   null|        null|              null|      null|     null|     null|      null|     null|\n",
      "|   111|    LEW|  20570|      3|  20576|    47|      2|    1|     M|59315035133| LEWISTON|        NY|      null|    null|   null|   null|        null|              null|      null|     null|     null|      null|     null|\n",
      "|   213|    LEW|  20571|      3|  20622|    47|      2|    1|     F|  751570585| LEWISTON|        NY|      null|    null|   null|   null|        null|              null|      null|     null|     null|      null|     null|\n",
      "|   135|    LEW|  20558|      3|  20560|    52|      2|    1|     M|55840487133| LEWISTON|        NY|      null|    null|   null|   null|        null|              null|      null|     null|     null|      null|     null|\n",
      "|   135|    LEW|  20560|      3|  20561|    53|      2|    1|     M|54209393433| LEWISTON|        NY|      null|    null|   null|   null|        null|              null|      null|     null|     null|      null|     null|\n",
      "|   514|    LEW|  20574|      3|  20575|    56|      2|    1|     F|80374948630| LEWISTON|        NY|      null|    null|   null|   null|        null|              null|      null|     null|     null|      null|     null|\n",
      "|   111|    LEW|  20562|      3|  20565|    57|      1|    1|     M|56399954533| LEWISTON|        NY|      null|    null|   null|   null|        null|              null|      null|     null|     null|      null|     null|\n",
      "+------+-------+-------+-------+-------+------+-------+-----+------+-----------+---------+----------+----------+--------+-------+-------+------------+------------------+----------+---------+---------+----------+---------+\n",
      "only showing top 20 rows\n",
      "\n"
     ]
    }
   ],
   "source": [
    "i94non_immigrant_port_entry.show()\n"
   ]
  },
  {
   "cell_type": "code",
   "execution_count": 84,
   "metadata": {
    "editable": true
   },
   "outputs": [],
   "source": [
    "# Convert SAS arrival date to datetime format\n",
    "get_date = udf(lambda x: (dt.datetime(1960, 1, 1).date() + dt.timedelta(x)).isoformat() if x else None)\n",
    "i94non_immigrant_port_entry = i94non_immigrant_port_entry.withColumn(\"arrival_date\", get_date(i94non_immigrant_port_entry.arrdate))"
   ]
  },
  {
   "cell_type": "code",
   "execution_count": 85,
   "metadata": {
    "editable": true
   },
   "outputs": [
    {
     "name": "stdout",
     "output_type": "stream",
     "text": [
      "+------+-------+-------+-------+-------+------+-------+-----+------+-----------+---------+----------+----------+--------+-------+-------+------------+------------------+----------+---------+---------+----------+---------+------------+\n",
      "|i94res|i94port|arrdate|i94mode|depdate|i94bir|i94visa|count|gender|     admnum|port_city|port_state|Median_age|Male_Pop|Fem_Pop|Ttl_Pop|Foreign-born|Avg_Household_Size|Native_Pop|Asian_Pop|Black_Pop|Latino_Pop|White_Pop|arrival_date|\n",
      "+------+-------+-------+-------+-------+------+-------+-----+------+-----------+---------+----------+----------+--------+-------+-------+------------+------------------+----------+---------+---------+----------+---------+------------+\n",
      "|   103|    NEC|  20556|      3|  20557|    51|      2|    1|     F|  788711085|    NECHE|        ND|      null|    null|   null|   null|        null|              null|      null|     null|     null|      null|     null|  2016-04-12|\n",
      "|   112|    NEC|  20573|      3|  20575|    32|      2|    1|     F|59477349333|    NECHE|        ND|      null|    null|   null|   null|        null|              null|      null|     null|     null|      null|     null|  2016-04-29|\n",
      "|   245|    LEW|  20574|      3|  20576|    21|      2|    1|     F|94960311530| LEWISTON|        NY|      null|    null|   null|   null|        null|              null|      null|     null|     null|      null|     null|  2016-04-30|\n",
      "+------+-------+-------+-------+-------+------+-------+-----+------+-----------+---------+----------+----------+--------+-------+-------+------------+------------------+----------+---------+---------+----------+---------+------------+\n",
      "only showing top 3 rows\n",
      "\n"
     ]
    }
   ],
   "source": [
    "i94non_immigrant_port_entry.show(3)"
   ]
  },
  {
   "cell_type": "code",
   "execution_count": 86,
   "metadata": {
    "editable": true
   },
   "outputs": [],
   "source": [
    "i94date=i94non_immigrant_port_entry.select(col('arrdate').alias('arrival_sasdate'),\n",
    "                                   col('arrival_date').alias('arrival_iso_date'),\n",
    "                                   date_format('arrival_date','M').alias('arrival_month'),\n",
    "                                   date_format('arrival_date','E').alias('arrival_dayofweek'), \n",
    "                                   date_format('arrival_date', 'y').alias('arrival_year'), \n",
    "                                   date_format('arrival_date', 'd').alias('arrival_day'),\n",
    "                                  date_format('arrival_date','w').alias('arrival_weekofyear')).dropDuplicates()"
   ]
  },
  {
   "cell_type": "code",
   "execution_count": 87,
   "metadata": {
    "editable": true
   },
   "outputs": [],
   "source": [
    "# Drop arrival_date column from the i94non_immigrant_port_entry dataframe and finally save it to parquet file \n",
    "i94non_immigrant_port_entry.drop('arrival_date').write.mode(\"overwrite\").parquet('./data/i94non_immigrant_port_entry.parquet')"
   ]
  },
  {
   "cell_type": "code",
   "execution_count": 88,
   "metadata": {
    "editable": true
   },
   "outputs": [
    {
     "data": {
      "text/plain": [
       "30"
      ]
     },
     "execution_count": 88,
     "metadata": {},
     "output_type": "execute_result"
    }
   ],
   "source": [
    "i94date.count()\n"
   ]
  },
  {
   "cell_type": "code",
   "execution_count": 89,
   "metadata": {
    "editable": true
   },
   "outputs": [
    {
     "name": "stdout",
     "output_type": "stream",
     "text": [
      "+---------------+----------------+-------------+-----------------+------------+-----------+------------------+\n",
      "|arrival_sasdate|arrival_iso_date|arrival_month|arrival_dayofweek|arrival_year|arrival_day|arrival_weekofyear|\n",
      "+---------------+----------------+-------------+-----------------+------------+-----------+------------------+\n",
      "|          20562|      2016-04-18|            4|              Mon|        2016|         18|                17|\n",
      "|          20554|      2016-04-10|            4|              Sun|        2016|         10|                16|\n",
      "|          20556|      2016-04-12|            4|              Tue|        2016|         12|                16|\n",
      "|          20548|      2016-04-04|            4|              Mon|        2016|          4|                15|\n",
      "|          20553|      2016-04-09|            4|              Sat|        2016|          9|                15|\n",
      "+---------------+----------------+-------------+-----------------+------------+-----------+------------------+\n",
      "only showing top 5 rows\n",
      "\n"
     ]
    }
   ],
   "source": [
    "i94date.show(5)\n"
   ]
  },
  {
   "cell_type": "code",
   "execution_count": 90,
   "metadata": {
    "editable": true
   },
   "outputs": [],
   "source": [
    "# Create temporary sql table\n",
    "i94date.createOrReplaceTempView(\"i94date_table\")"
   ]
  },
  {
   "cell_type": "code",
   "execution_count": 91,
   "metadata": {
    "editable": true
   },
   "outputs": [],
   "source": [
    "# Add seasons to i94 date dimension table\n",
    "i94date_season=spark.sql('''select arrival_sasdate,\n",
    "                         arrival_iso_date,\n",
    "                         arrival_month,\n",
    "                         arrival_dayofweek,\n",
    "                         arrival_year,\n",
    "                         arrival_day,\n",
    "                         arrival_weekofyear,\n",
    "                         CASE WHEN arrival_month IN (12, 1, 2) THEN 'winter' \n",
    "                                WHEN arrival_month IN (3, 4, 5) THEN 'spring' \n",
    "                                WHEN arrival_month IN (6, 7, 8) THEN 'summer' \n",
    "                                ELSE 'autumn' \n",
    "                         END AS date_season from i94date_table''')"
   ]
  },
  {
   "cell_type": "code",
   "execution_count": 92,
   "metadata": {
    "editable": true
   },
   "outputs": [
    {
     "name": "stdout",
     "output_type": "stream",
     "text": [
      "+---------------+----------------+-------------+-----------------+------------+-----------+------------------+-----------+\n",
      "|arrival_sasdate|arrival_iso_date|arrival_month|arrival_dayofweek|arrival_year|arrival_day|arrival_weekofyear|date_season|\n",
      "+---------------+----------------+-------------+-----------------+------------+-----------+------------------+-----------+\n",
      "|          20562|      2016-04-18|            4|              Mon|        2016|         18|                17|     spring|\n",
      "|          20554|      2016-04-10|            4|              Sun|        2016|         10|                16|     spring|\n",
      "|          20556|      2016-04-12|            4|              Tue|        2016|         12|                16|     spring|\n",
      "+---------------+----------------+-------------+-----------------+------------+-----------+------------------+-----------+\n",
      "only showing top 3 rows\n",
      "\n"
     ]
    }
   ],
   "source": [
    "i94date_season.show(3)\n"
   ]
  },
  {
   "cell_type": "code",
   "execution_count": null,
   "metadata": {
    "editable": true
   },
   "outputs": [],
   "source": [
    "# Save i94date dimension to parquet file partitioned by year and month:\n",
    "i94date_season.write.mode(\"overwrite\").partitionBy(\"arrival_year\", \"arrival_month\").parquet('./data/i94date.parquet')"
   ]
  },
  {
   "cell_type": "code",
   "execution_count": null,
   "metadata": {
    "editable": true
   },
   "outputs": [],
   "source": []
  },
  {
   "cell_type": "code",
   "execution_count": null,
   "metadata": {
    "editable": true
   },
   "outputs": [],
   "source": []
  },
  {
   "cell_type": "code",
   "execution_count": null,
   "metadata": {
    "editable": true
   },
   "outputs": [],
   "source": []
  },
  {
   "cell_type": "code",
   "execution_count": null,
   "metadata": {
    "editable": true
   },
   "outputs": [],
   "source": []
  },
  {
   "cell_type": "markdown",
   "metadata": {
    "editable": true
   },
   "source": [
    "### Step 3: Define the Data Model\n",
    "#### 3.1 Conceptual Data Model\n",
    "Map out the conceptual data model and explain why you chose that model\n",
    "\n",
    "#### 3.2 Mapping Out Data Pipelines\n",
    "List the steps necessary to pipeline the data into the chosen data model"
   ]
  },
  {
   "cell_type": "code",
   "execution_count": null,
   "metadata": {
    "editable": true
   },
   "outputs": [],
   "source": []
  },
  {
   "cell_type": "markdown",
   "metadata": {
    "editable": true
   },
   "source": [
    "### Step 4: Run Pipelines to Model the Data \n",
    "#### 4.1 Create the data model\n",
    "Build the data pipelines to create the data model."
   ]
  },
  {
   "cell_type": "code",
   "execution_count": null,
   "metadata": {
    "editable": true
   },
   "outputs": [],
   "source": [
    "# Write code here"
   ]
  },
  {
   "cell_type": "markdown",
   "metadata": {
    "editable": true
   },
   "source": [
    "#### 4.2 Data Quality Checks\n",
    "Explain the data quality checks you'll perform to ensure the pipeline ran as expected. These could include:\n",
    " * Integrity constraints on the relational database (e.g., unique key, data type, etc.)\n",
    " * Unit tests for the scripts to ensure they are doing the right thing\n",
    " * Source/Count checks to ensure completeness\n",
    " \n",
    "Run Quality Checks"
   ]
  },
  {
   "cell_type": "code",
   "execution_count": null,
   "metadata": {
    "editable": true
   },
   "outputs": [],
   "source": [
    "# Perform quality checks here\n",
    "# Perform quality checks here\n",
    "\n",
    "if us_spark.count() > 0:\n",
    "    print('Passed reading data file.')\n",
    "else:\n",
    "    print('Seems to be nothing in file!')\n",
    "\n",
    "if us.count() == us_race_cnt.count():\n",
    "    print('Transformation went perfect.')\n",
    "else:\n",
    "    print('Inconsistant data between both dataframes!')\n",
    "\n",
    "if i94_spark.count() > 0:\n",
    "    print('Passed reading data file.')\n",
    "else:\n",
    "    print('Seems to be nothing in file!')\n",
    "    \n",
    "if i94_spark.count() == i94non_immigrant_port_entry.count():\n",
    "    print('Transformation went perfect.')\n",
    "else:\n",
    "    print('Inconsistant data between both dataframes!')"
   ]
  },
  {
   "cell_type": "code",
   "execution_count": null,
   "metadata": {
    "editable": true
   },
   "outputs": [],
   "source": []
  },
  {
   "cell_type": "markdown",
   "metadata": {
    "editable": true
   },
   "source": [
    "#### 4.3 Data dictionary \n",
    "Create a data dictionary for your data model. For each field, provide a brief description of what the data is and where it came from. You can include the data dictionary in the notebook or in a separate file."
   ]
  },
  {
   "cell_type": "markdown",
   "metadata": {
    "editable": true
   },
   "source": [
    "#### Step 5: Complete Project Write Up\n",
    "* Clearly state the rationale for the choice of tools and technologies for the project.\n",
    "* Propose how often the data should be updated and why.\n",
    "* Write a description of how you would approach the problem differently under the following scenarios:\n",
    " * The data was increased by 100x.\n",
    " * The data populates a dashboard that must be updated on a daily basis by 7am every day.\n",
    " * The database needed to be accessed by 100+ people."
   ]
  },
  {
   "cell_type": "code",
   "execution_count": null,
   "metadata": {
    "editable": true
   },
   "outputs": [],
   "source": []
  },
  {
   "cell_type": "code",
   "execution_count": null,
   "metadata": {
    "editable": true
   },
   "outputs": [],
   "source": []
  },
  {
   "cell_type": "code",
   "execution_count": null,
   "metadata": {
    "editable": true
   },
   "outputs": [],
   "source": []
  },
  {
   "cell_type": "code",
   "execution_count": null,
   "metadata": {
    "editable": true
   },
   "outputs": [],
   "source": []
  },
  {
   "cell_type": "code",
   "execution_count": null,
   "metadata": {
    "editable": true
   },
   "outputs": [],
   "source": []
  },
  {
   "cell_type": "code",
   "execution_count": null,
   "metadata": {
    "editable": true
   },
   "outputs": [],
   "source": []
  }
 ],
 "metadata": {
  "kernelspec": {
   "display_name": "Python 3",
   "language": "python",
   "name": "python3"
  },
  "language_info": {
   "codemirror_mode": {
    "name": "ipython",
    "version": 3
   },
   "file_extension": ".py",
   "mimetype": "text/x-python",
   "name": "python",
   "nbconvert_exporter": "python",
   "pygments_lexer": "ipython3",
   "version": "3.6.3"
  }
 },
 "nbformat": 4,
 "nbformat_minor": 4
}
