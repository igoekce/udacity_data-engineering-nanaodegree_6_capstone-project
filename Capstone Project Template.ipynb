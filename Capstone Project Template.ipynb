{
 "cells": [
  {
   "cell_type": "markdown",
   "metadata": {
    "editable": true
   },
   "source": [
    "# Project Title\n",
    "### Data Engineering Capstone Project\n",
    "\n",
    "#### Project Summary\n",
    "This project contains several files provided by udacity. As the different data could be merged for several reasons i will take out one speciific purpose for data insight generation. As the provided data has some information about us demographics and non-immigrant entrants, it could be interesting to see if there are relationsships to each other. For creating such knowledge it is necessary to build an etl with the neccerssary steps (EDA, cleaning, wrangling, writing,etc.). Afterwards the department can work out the needed information. \n",
    "\n",
    "I will use for my setup a star schema as this is the simpliest way ramping up the business and allows fastly generate insights. I will create fact and dimension tables as required in a star schema. \n",
    "\n",
    "Steps of the project:\n",
    "* Step 1: Scope the Project and Gather Data\n",
    "* Step 2: Explore and Assess the Data\n",
    "* Step 3: Define the Data Model\n",
    "* Step 4: Run ETL to Model the Data\n",
    "* Step 5: Complete Project Write Up"
   ]
  },
  {
   "cell_type": "code",
   "execution_count": 10,
   "metadata": {
    "editable": true
   },
   "outputs": [],
   "source": [
    "# Do all imports and installs here and initiate spark\n",
    "import pandas as pd\n",
    "import datetime as dt\n",
    "import numpy as np\n",
    "\n",
    "from pyspark.sql import SparkSession\n",
    "spark = SparkSession.builder.\\\n",
    "config(\"spark.jars.packages\", \"org.apache.hadoop:hadoop-aws:2.7.0\") \\\n",
    ".getOrCreate()\n",
    "\n",
    "from pyspark.sql.functions import first\n",
    "from pyspark.sql.functions import upper, col\n",
    "from pyspark.sql.types import StructField, StructType, StringType, LongType, IntegerType\n",
    "from pyspark.sql.functions import udf, date_format\n"
   ]
  },
  {
   "cell_type": "markdown",
   "metadata": {
    "editable": true
   },
   "source": [
    "### Step 1: Scope the Project and Gather Data\n",
    "\n",
    "#### Scope \n",
    "Explain what you plan to do in the project in more detail. What data do you use? What is your end solution look like? What tools did you use? etc>\n",
    "\n",
    "I will transform the US Demographic dataset by pivoting on the Race column with the aim to convert Race categories into individual columns. We will achieve this transformation by separating both Race and Count columns from the US demo dataset and initiate two separate datasets called US and US RACE COUNT.\n",
    "\n",
    "US RACE COUNT dataset will also include City and State Code columns as a basis to join back with US dataset. Before we join the two datasets we will remove duplicates from the US dataset and pivot the US Race Count dataset. In theory both datasets should have equal rows to join them back to single transformed table."
   ]
  },
  {
   "cell_type": "markdown",
   "metadata": {
    "editable": true
   },
   "source": [
    "Describe and Gather Data\n",
    "Describe the data sets you're using. Where did it come from? What type of information is included?\n",
    "\n",
    "The I94 immigration data comes from the US National Tourism and Trade Office. This data was already provided inside sas_data folder in parquet file type. We will use the following records:\n",
    "i94Bir - Age of non-immigrant in years, admnum - Admission Number, i94res - 3 digit code of nationality, i94port - 3 character code of destination USA city, arrdate - arrival date in the USA (SAS date numeric field), i94mode - 1 digit mode (plane, boat, etc) of travel code i94visa - reason for immigration, gender - Non-immigrant sex, depdate - departure date in the USA (SAS date numeric field), count - Used for summary statistics\n",
    "\n",
    "U.S. City Demographic Data comes from OpenSoft in csv file format and will be converted to json. We will use the following records:\n",
    "City (USA), Male Population, Female Population, Median Age (overall median age within the city population), Total Population, Foreign-Born (number of foreign born residences), State Code (USA state abbreviation of the City column), Race (specifies race category suchas Asian, Alaskan Indian, Black, Hispanic, etc), Count (number of people under specific race category anotated by Race column)\n",
    "\n",
    "# Rework asked from Mentor\n",
    "Who is going to use the data, be specific here, you can think of user persona here\n",
    "For example the airport or the securities to adapt the skill requirements for employees like beeing able to speak another language.\n",
    "Or extnd homeland securtiy employes if you know that at certain or certain airports, you have more visa applies than anywhere else.\n",
    "\n",
    "What are the types of question that can be answered using this data model, again be specific\n",
    "On which Port do we have the most Latino Population?\n",
    "On which date did we had the most Visa applies?\n"
   ]
  },
  {
   "cell_type": "markdown",
   "metadata": {
    "editable": true
   },
   "source": [
    "### Step 2: Explore and Assess the Data\n",
    "#### Explore the Data \n",
    "Identify data quality issues, like missing values, duplicate data, etc.\n",
    "pls. see data_information.ipynb\n",
    "\n",
    "#### Cleaning Steps\n",
    "Document steps necessary to clean the data\n",
    "pls. see upcoming steps"
   ]
  },
  {
   "cell_type": "markdown",
   "metadata": {
    "editable": true
   },
   "source": [
    "##### Read US Cities Demo dataset file"
   ]
  },
  {
   "cell_type": "code",
   "execution_count": 11,
   "metadata": {
    "editable": true
   },
   "outputs": [],
   "source": [
    "# Read in us-cities-demographics.csv for further processing\n",
    "us_spark=spark.read.csv(\"./data/us-cities-demographics.csv\", sep=';', header=True)"
   ]
  },
  {
   "cell_type": "code",
   "execution_count": 12,
   "metadata": {
    "editable": true
   },
   "outputs": [
    {
     "name": "stdout",
     "output_type": "stream",
     "text": [
      "['City', 'State', 'Median Age', 'Male Population', 'Female Population', 'Total Population', 'Number of Veterans', 'Foreign-born', 'Average Household Size', 'State Code', 'Race', 'Count']\n"
     ]
    }
   ],
   "source": [
    "# Display columns for choice decision\n",
    "print(us_spark.columns)# Read in us-cities-demographics.csv for further processing"
   ]
  },
  {
   "cell_type": "code",
   "execution_count": 13,
   "metadata": {
    "editable": true
   },
   "outputs": [
    {
     "name": "stdout",
     "output_type": "stream",
     "text": [
      "+-------+----------+----------+---------------+-----------------+----------------+------------------+------------+----------------------+----------+--------------------+------+\n",
      "|   City|     State|Median Age|Male Population|Female Population|Total Population|Number of Veterans|Foreign-born|Average Household Size|State Code|                Race| Count|\n",
      "+-------+----------+----------+---------------+-----------------+----------------+------------------+------------+----------------------+----------+--------------------+------+\n",
      "|Abilene|     Texas|      31.3|          65212|            60664|          125876|              9367|        8129|                  2.64|        TX|American Indian a...|  1813|\n",
      "|Abilene|     Texas|      31.3|          65212|            60664|          125876|              9367|        8129|                  2.64|        TX|  Hispanic or Latino| 33222|\n",
      "|Abilene|     Texas|      31.3|          65212|            60664|          125876|              9367|        8129|                  2.64|        TX|               White| 95487|\n",
      "|Abilene|     Texas|      31.3|          65212|            60664|          125876|              9367|        8129|                  2.64|        TX|               Asian|  2929|\n",
      "|Abilene|     Texas|      31.3|          65212|            60664|          125876|              9367|        8129|                  2.64|        TX|Black or African-...| 14449|\n",
      "|  Akron|      Ohio|      38.1|          96886|           100667|          197553|             12878|       10024|                  2.24|        OH|               White|129192|\n",
      "|  Akron|      Ohio|      38.1|          96886|           100667|          197553|             12878|       10024|                  2.24|        OH|  Hispanic or Latino|  3684|\n",
      "|  Akron|      Ohio|      38.1|          96886|           100667|          197553|             12878|       10024|                  2.24|        OH|Black or African-...| 66551|\n",
      "|  Akron|      Ohio|      38.1|          96886|           100667|          197553|             12878|       10024|                  2.24|        OH|               Asian|  9033|\n",
      "|  Akron|      Ohio|      38.1|          96886|           100667|          197553|             12878|       10024|                  2.24|        OH|American Indian a...|  1845|\n",
      "|Alafaya|   Florida|      33.5|          39504|            45760|           85264|              4176|       15842|                  2.94|        FL|  Hispanic or Latino| 34897|\n",
      "|Alafaya|   Florida|      33.5|          39504|            45760|           85264|              4176|       15842|                  2.94|        FL|               Asian| 10336|\n",
      "|Alafaya|   Florida|      33.5|          39504|            45760|           85264|              4176|       15842|                  2.94|        FL|               White| 63666|\n",
      "|Alafaya|   Florida|      33.5|          39504|            45760|           85264|              4176|       15842|                  2.94|        FL|Black or African-...|  6577|\n",
      "|Alameda|California|      41.4|          37747|            40867|           78614|              4504|       18841|                  2.52|        CA|               White| 44232|\n",
      "|Alameda|California|      41.4|          37747|            40867|           78614|              4504|       18841|                  2.52|        CA|American Indian a...|  1329|\n",
      "|Alameda|California|      41.4|          37747|            40867|           78614|              4504|       18841|                  2.52|        CA|Black or African-...|  7364|\n",
      "|Alameda|California|      41.4|          37747|            40867|           78614|              4504|       18841|                  2.52|        CA|  Hispanic or Latino|  8265|\n",
      "|Alameda|California|      41.4|          37747|            40867|           78614|              4504|       18841|                  2.52|        CA|               Asian| 27984|\n",
      "| Albany|  New York|      32.8|          47627|            50825|           98452|              3643|       11948|                  2.08|        NY|  Hispanic or Latino|  9368|\n",
      "+-------+----------+----------+---------------+-----------------+----------------+------------------+------------+----------------------+----------+--------------------+------+\n",
      "only showing top 20 rows\n",
      "\n"
     ]
    }
   ],
   "source": [
    "us_spark.orderBy(\"city\").show()"
   ]
  },
  {
   "cell_type": "code",
   "execution_count": 14,
   "metadata": {
    "editable": true
   },
   "outputs": [
    {
     "name": "stdout",
     "output_type": "stream",
     "text": [
      "+-------+----------+----------+---------------+-----------------+----------------+------------+----------------------+\n",
      "|   City|     state|Median Age|male population|female population|total population|foreign-born|Average Household Size|\n",
      "+-------+----------+----------+---------------+-----------------+----------------+------------+----------------------+\n",
      "|Abilene|     Texas|      31.3|          65212|            60664|          125876|        8129|                  2.64|\n",
      "|Abilene|     Texas|      31.3|          65212|            60664|          125876|        8129|                  2.64|\n",
      "|Abilene|     Texas|      31.3|          65212|            60664|          125876|        8129|                  2.64|\n",
      "|Abilene|     Texas|      31.3|          65212|            60664|          125876|        8129|                  2.64|\n",
      "|Abilene|     Texas|      31.3|          65212|            60664|          125876|        8129|                  2.64|\n",
      "|  Akron|      Ohio|      38.1|          96886|           100667|          197553|       10024|                  2.24|\n",
      "|  Akron|      Ohio|      38.1|          96886|           100667|          197553|       10024|                  2.24|\n",
      "|  Akron|      Ohio|      38.1|          96886|           100667|          197553|       10024|                  2.24|\n",
      "|  Akron|      Ohio|      38.1|          96886|           100667|          197553|       10024|                  2.24|\n",
      "|  Akron|      Ohio|      38.1|          96886|           100667|          197553|       10024|                  2.24|\n",
      "|Alafaya|   Florida|      33.5|          39504|            45760|           85264|       15842|                  2.94|\n",
      "|Alafaya|   Florida|      33.5|          39504|            45760|           85264|       15842|                  2.94|\n",
      "|Alafaya|   Florida|      33.5|          39504|            45760|           85264|       15842|                  2.94|\n",
      "|Alafaya|   Florida|      33.5|          39504|            45760|           85264|       15842|                  2.94|\n",
      "|Alameda|California|      41.4|          37747|            40867|           78614|       18841|                  2.52|\n",
      "|Alameda|California|      41.4|          37747|            40867|           78614|       18841|                  2.52|\n",
      "|Alameda|California|      41.4|          37747|            40867|           78614|       18841|                  2.52|\n",
      "|Alameda|California|      41.4|          37747|            40867|           78614|       18841|                  2.52|\n",
      "|Alameda|California|      41.4|          37747|            40867|           78614|       18841|                  2.52|\n",
      "| Albany|  New York|      32.8|          47627|            50825|           98452|       11948|                  2.08|\n",
      "+-------+----------+----------+---------------+-----------------+----------------+------------+----------------------+\n",
      "only showing top 20 rows\n",
      "\n"
     ]
    }
   ],
   "source": [
    "# Check dataset for duplicate rows for the defined aggregation\n",
    "us_spark.select(\"City\",\"state\",\"Median Age\",\"male population\",\"female population\",\"total population\", \\\n",
    "                  \"foreign-born\",\"Average Household Size\").orderBy(\"city\").show()"
   ]
  },
  {
   "cell_type": "code",
   "execution_count": 15,
   "metadata": {
    "editable": true
   },
   "outputs": [
    {
     "name": "stdout",
     "output_type": "stream",
     "text": [
      "+-------+----------+--------------------+------+\n",
      "|   city|state code|                Race| count|\n",
      "+-------+----------+--------------------+------+\n",
      "|Abilene|        TX|American Indian a...|  1813|\n",
      "|Abilene|        TX|  Hispanic or Latino| 33222|\n",
      "|Abilene|        TX|               White| 95487|\n",
      "|Abilene|        TX|               Asian|  2929|\n",
      "|Abilene|        TX|Black or African-...| 14449|\n",
      "|  Akron|        OH|               White|129192|\n",
      "|  Akron|        OH|  Hispanic or Latino|  3684|\n",
      "|  Akron|        OH|Black or African-...| 66551|\n",
      "|  Akron|        OH|               Asian|  9033|\n",
      "|  Akron|        OH|American Indian a...|  1845|\n",
      "|Alafaya|        FL|  Hispanic or Latino| 34897|\n",
      "|Alafaya|        FL|               Asian| 10336|\n",
      "|Alafaya|        FL|               White| 63666|\n",
      "|Alafaya|        FL|Black or African-...|  6577|\n",
      "|Alameda|        CA|               White| 44232|\n",
      "|Alameda|        CA|American Indian a...|  1329|\n",
      "|Alameda|        CA|Black or African-...|  7364|\n",
      "|Alameda|        CA|  Hispanic or Latino|  8265|\n",
      "|Alameda|        CA|               Asian| 27984|\n",
      "| Albany|        NY|  Hispanic or Latino|  9368|\n",
      "+-------+----------+--------------------+------+\n",
      "only showing top 20 rows\n",
      "\n"
     ]
    }
   ],
   "source": [
    "# Check subset of `US` dataset that maybe causing dupliate rows\n",
    "us_spark.select(\"city\",\"state code\",\"Race\",\"count\").orderBy(\"city\").show()"
   ]
  },
  {
   "cell_type": "markdown",
   "metadata": {
    "editable": true
   },
   "source": [
    "##### Transformation of demo dataset file"
   ]
  },
  {
   "cell_type": "code",
   "execution_count": 16,
   "metadata": {
    "editable": true
   },
   "outputs": [],
   "source": [
    "# Creating 'us_race_count' dataset\n",
    "us_race_count=(us_spark.select(\"city\",\"state code\",\"Race\",\"count\")\n",
    "    .groupby(us_spark.City, \"state code\")\n",
    "    .pivot(\"Race\")\n",
    "    .agg(first(\"Count\")))"
   ]
  },
  {
   "cell_type": "code",
   "execution_count": 17,
   "metadata": {
    "editable": true
   },
   "outputs": [
    {
     "name": "stdout",
     "output_type": "stream",
     "text": [
      "+------------+----------+---------------------------------+-----+-------------------------+------------------+------+\n",
      "|        City|state code|American Indian and Alaska Native|Asian|Black or African-American|Hispanic or Latino| White|\n",
      "+------------+----------+---------------------------------+-----+-------------------------+------------------+------+\n",
      "|     Abilene|        TX|                             1813| 2929|                    14449|             33222| 95487|\n",
      "|       Akron|        OH|                             1845| 9033|                    66551|              3684|129192|\n",
      "|     Alafaya|        FL|                             null|10336|                     6577|             34897| 63666|\n",
      "|     Alameda|        CA|                             1329|27984|                     7364|              8265| 44232|\n",
      "|      Albany|        NY|                             1611| 8090|                    31303|              9368| 58368|\n",
      "|      Albany|        GA|                              445|  650|                    53440|              1783| 17160|\n",
      "| Albuquerque|        NM|                            32243|25140|                    26774|            271854|411847|\n",
      "|  Alexandria|        VA|                             1133|13315|                    37168|             25573|106215|\n",
      "|    Alhambra|        CA|                              687|44067|                     1905|             31386| 20811|\n",
      "|       Allen|        TX|                              227|15790|                    13140|             10615| 69840|\n",
      "|       Allen|        PA|                             1076| 2670|                    22304|             59176| 74187|\n",
      "|    Amarillo|        TX|                             4260| 8563|                    14050|             65392|174214|\n",
      "|        Ames|        IA|                             null| 8979|                     1103|              2024| 56157|\n",
      "|     Anaheim|        CA|                             2489|53270|                     9775|            201593|259820|\n",
      "|   Anchorage|        AK|                            36339|36825|                    23107|             27261|212696|\n",
      "|   Ann Arbor|        MI|                             1935|18797|                     9577|              5888| 90173|\n",
      "|     Antioch|        CA|                             3462|14333|                    23227|             35563| 51151|\n",
      "|Apple Valley|        CA|                             1446| 2281|                     9124|             25928| 60767|\n",
      "|    Appleton|        WI|                              835| 5561|                     3407|              5139| 64674|\n",
      "|Arden-Arcade|        CA|                             2587| 7355|                    13647|             15273| 69369|\n",
      "+------------+----------+---------------------------------+-----+-------------------------+------------------+------+\n",
      "only showing top 20 rows\n",
      "\n"
     ]
    }
   ],
   "source": [
    "# Checking dataset\n",
    "us_race_count.orderBy(\"city\").show()"
   ]
  },
  {
   "cell_type": "code",
   "execution_count": 18,
   "metadata": {
    "editable": true
   },
   "outputs": [
    {
     "name": "stdout",
     "output_type": "stream",
     "text": [
      "us_spark 2891\n",
      "us_race_count 596\n",
      "us_race_count drop duplicates 596\n"
     ]
    }
   ],
   "source": [
    "# Comparing datasets after dropping duplicate rows\n",
    "print('us_spark', us_spark.count())\n",
    "print('us_race_count', us_race_count.count())\n",
    "print('us_race_count drop duplicates', us_race_count.dropDuplicates().count())"
   ]
  },
  {
   "cell_type": "code",
   "execution_count": 19,
   "metadata": {
    "editable": true
   },
   "outputs": [],
   "source": [
    "#adapt us_spark"
   ]
  },
  {
   "cell_type": "code",
   "execution_count": 20,
   "metadata": {
    "editable": true
   },
   "outputs": [
    {
     "data": {
      "text/plain": [
       "['City',\n",
       " 'State',\n",
       " 'Median Age',\n",
       " 'Male Population',\n",
       " 'Female Population',\n",
       " 'Total Population',\n",
       " 'Number of Veterans',\n",
       " 'Foreign-born',\n",
       " 'Average Household Size',\n",
       " 'State Code',\n",
       " 'Race',\n",
       " 'Count']"
      ]
     },
     "execution_count": 20,
     "metadata": {},
     "output_type": "execute_result"
    }
   ],
   "source": [
    "us_spark.columns"
   ]
  },
  {
   "cell_type": "code",
   "execution_count": 21,
   "metadata": {
    "editable": true
   },
   "outputs": [],
   "source": [
    "uscols=[\"Number of Veterans\",\"Race\",\"Count\"]"
   ]
  },
  {
   "cell_type": "code",
   "execution_count": 22,
   "metadata": {
    "editable": true
   },
   "outputs": [],
   "source": [
    "# Drop columns we don't need and drop duplicate rows\n",
    "us=us_spark.drop(*uscols).dropDuplicates()"
   ]
  },
  {
   "cell_type": "code",
   "execution_count": 23,
   "metadata": {
    "editable": true
   },
   "outputs": [
    {
     "data": {
      "text/plain": [
       "['City',\n",
       " 'State',\n",
       " 'Median Age',\n",
       " 'Male Population',\n",
       " 'Female Population',\n",
       " 'Total Population',\n",
       " 'Foreign-born',\n",
       " 'Average Household Size',\n",
       " 'State Code']"
      ]
     },
     "execution_count": 23,
     "metadata": {},
     "output_type": "execute_result"
    }
   ],
   "source": [
    "us.columns"
   ]
  },
  {
   "cell_type": "code",
   "execution_count": 24,
   "metadata": {
    "editable": true
   },
   "outputs": [
    {
     "name": "stdout",
     "output_type": "stream",
     "text": [
      "us_spark 2891\n",
      "us_race_count 596\n",
      "us 596\n"
     ]
    }
   ],
   "source": [
    "# Comparing row count between original and new dataset with dropped duplicate rows\n",
    "print('us_spark', us_spark.count())\n",
    "print('us_race_count', us_race_count.count())\n",
    "print('us', us.count())\n",
    "# We can see that new cleaned 'us' dataset now matches number of rows with 'us_race_cnt' dataset which we will join together into one 'us' dataset"
   ]
  },
  {
   "cell_type": "code",
   "execution_count": 25,
   "metadata": {
    "editable": true
   },
   "outputs": [
    {
     "name": "stdout",
     "output_type": "stream",
     "text": [
      "+---------------+-----------+----------+---------------+-----------------+----------------+------------+----------------------+----------+\n",
      "|           City|      State|Median Age|Male Population|Female Population|Total Population|Foreign-born|Average Household Size|State Code|\n",
      "+---------------+-----------+----------+---------------+-----------------+----------------+------------+----------------------+----------+\n",
      "|Highlands Ranch|   Colorado|      39.6|          49186|            53281|          102467|        8827|                  2.72|        CO|\n",
      "|           Kent| Washington|      33.4|          61825|            65137|          126962|       38175|                  3.06|        WA|\n",
      "|        Madison|  Wisconsin|      30.7|         122596|           126360|          248956|       30090|                  2.23|        WI|\n",
      "|         Denver|   Colorado|      34.1|         341137|           341408|          682545|      113222|                  2.33|        CO|\n",
      "|         Caguas|Puerto Rico|      40.4|          34743|            42265|           77008|        null|                  null|        PR|\n",
      "+---------------+-----------+----------+---------------+-----------------+----------------+------------+----------------------+----------+\n",
      "only showing top 5 rows\n",
      "\n"
     ]
    }
   ],
   "source": [
    "us.show(5)"
   ]
  },
  {
   "cell_type": "code",
   "execution_count": 26,
   "metadata": {
    "editable": true
   },
   "outputs": [
    {
     "data": {
      "text/plain": [
       "596"
      ]
     },
     "execution_count": 26,
     "metadata": {},
     "output_type": "execute_result"
    }
   ],
   "source": [
    "# now lets join the prepared datasets\n",
    "us.join(us_race_count, [\"city\",\"state code\"]).count()\n",
    "# We now see total rows match both datasets after joining them"
   ]
  },
  {
   "cell_type": "code",
   "execution_count": 27,
   "metadata": {
    "editable": true
   },
   "outputs": [
    {
     "name": "stdout",
     "output_type": "stream",
     "text": [
      "+------------+----------+------------+----------+---------------+-----------------+----------------+------------+----------------------+---------------------------------+-----+-------------------------+------------------+------+\n",
      "|        City|State Code|       State|Median Age|Male Population|Female Population|Total Population|Foreign-born|Average Household Size|American Indian and Alaska Native|Asian|Black or African-American|Hispanic or Latino| White|\n",
      "+------------+----------+------------+----------+---------------+-----------------+----------------+------------+----------------------+---------------------------------+-----+-------------------------+------------------+------+\n",
      "|     Abilene|        TX|       Texas|      31.3|          65212|            60664|          125876|        8129|                  2.64|                             1813| 2929|                    14449|             33222| 95487|\n",
      "|       Akron|        OH|        Ohio|      38.1|          96886|           100667|          197553|       10024|                  2.24|                             1845| 9033|                    66551|              3684|129192|\n",
      "|     Alafaya|        FL|     Florida|      33.5|          39504|            45760|           85264|       15842|                  2.94|                             null|10336|                     6577|             34897| 63666|\n",
      "|     Alameda|        CA|  California|      41.4|          37747|            40867|           78614|       18841|                  2.52|                             1329|27984|                     7364|              8265| 44232|\n",
      "|      Albany|        NY|    New York|      32.8|          47627|            50825|           98452|       11948|                  2.08|                             1611| 8090|                    31303|              9368| 58368|\n",
      "|      Albany|        GA|     Georgia|      33.3|          31695|            39414|           71109|         861|                  2.38|                              445|  650|                    53440|              1783| 17160|\n",
      "| Albuquerque|        NM|  New Mexico|      36.0|         273323|           285808|          559131|       58200|                  2.49|                            32243|25140|                    26774|            271854|411847|\n",
      "|  Alexandria|        VA|    Virginia|      36.6|          74989|            78522|          153511|       44030|                   2.2|                             1133|13315|                    37168|             25573|106215|\n",
      "|    Alhambra|        CA|  California|      41.0|          42184|            43388|           85572|       44441|                  2.89|                              687|44067|                     1905|             31386| 20811|\n",
      "|       Allen|        TX|       Texas|      37.2|          51324|            46814|           98138|       19649|                  3.04|                              227|15790|                    13140|             10615| 69840|\n",
      "|       Allen|        PA|Pennsylvania|      33.5|          60626|            59581|          120207|       19652|                  2.67|                             1076| 2670|                    22304|             59176| 74187|\n",
      "|    Amarillo|        TX|       Texas|      33.8|          99391|           100260|          199651|       21124|                  2.64|                             4260| 8563|                    14050|             65392|174214|\n",
      "|        Ames|        IA|        Iowa|      23.0|          33814|            31238|           65052|        8606|                  2.16|                             null| 8979|                     1103|              2024| 56157|\n",
      "|     Anaheim|        CA|  California|      33.6|         179603|           171135|          350738|      137133|                  3.45|                             2489|53270|                     9775|            201593|259820|\n",
      "|   Anchorage|        AK|      Alaska|      32.2|         152945|           145750|          298695|       33258|                  2.77|                            36339|36825|                    23107|             27261|212696|\n",
      "|   Ann Arbor|        MI|    Michigan|      28.1|          58789|            58281|          117070|       20717|                  2.17|                             1935|18797|                     9577|              5888| 90173|\n",
      "|     Antioch|        CA|  California|      34.0|          54733|            55809|          110542|       24942|                  3.31|                             3462|14333|                    23227|             35563| 51151|\n",
      "|Apple Valley|        CA|  California|      34.3|          32873|            39312|           72185|        5801|                  3.03|                             1446| 2281|                     9124|             25928| 60767|\n",
      "|    Appleton|        WI|   Wisconsin|      35.6|          37217|            38038|           75255|        4454|                  2.49|                              835| 5561|                     3407|              5139| 64674|\n",
      "|Arden-Arcade|        CA|  California|      41.5|          47596|            48680|           96276|       13458|                  2.18|                             2587| 7355|                    13647|             15273| 69369|\n",
      "+------------+----------+------------+----------+---------------+-----------------+----------------+------------+----------------------+---------------------------------+-----+-------------------------+------------------+------+\n",
      "only showing top 20 rows\n",
      "\n"
     ]
    }
   ],
   "source": [
    "# Checking data sample\n",
    "us.join(us_race_count, [\"city\",\"state code\"]).orderBy(\"city\").show()"
   ]
  },
  {
   "cell_type": "code",
   "execution_count": 28,
   "metadata": {
    "editable": true
   },
   "outputs": [],
   "source": [
    "# Finally saving (committing) joined US dataset\n",
    "us=us.join(us_race_count, [\"city\",\"state code\"])"
   ]
  },
  {
   "cell_type": "code",
   "execution_count": 29,
   "metadata": {
    "editable": true
   },
   "outputs": [
    {
     "name": "stdout",
     "output_type": "stream",
     "text": [
      "+---------------+----------+-----------+----------+---------------+-----------------+----------------+------------+----------------------+---------------------------------+-----+-------------------------+------------------+------+\n",
      "|           City|State Code|      State|Median Age|Male Population|Female Population|Total Population|Foreign-born|Average Household Size|American Indian and Alaska Native|Asian|Black or African-American|Hispanic or Latino| White|\n",
      "+---------------+----------+-----------+----------+---------------+-----------------+----------------+------------+----------------------+---------------------------------+-----+-------------------------+------------------+------+\n",
      "|Highlands Ranch|        CO|   Colorado|      39.6|          49186|            53281|          102467|        8827|                  2.72|                             1480| 5650|                     1779|              8393| 94499|\n",
      "|           Kent|        WA| Washington|      33.4|          61825|            65137|          126962|       38175|                  3.06|                             3651|26168|                    20450|             21928| 67918|\n",
      "|        Madison|        WI|  Wisconsin|      30.7|         122596|           126360|          248956|       30090|                  2.23|                             2296|23937|                    20424|             19697|204302|\n",
      "|         Denver|        CO|   Colorado|      34.1|         341137|           341408|          682545|      113222|                  2.33|                            14008|32491|                    72288|            207847|546370|\n",
      "|         Caguas|        PR|Puerto Rico|      40.4|          34743|            42265|           77008|        null|                  null|                              624| null|                     null|             76349|  null|\n",
      "+---------------+----------+-----------+----------+---------------+-----------------+----------------+------------+----------------------+---------------------------------+-----+-------------------------+------------------+------+\n",
      "only showing top 5 rows\n",
      "\n"
     ]
    },
    {
     "data": {
      "text/plain": [
       "(596, None)"
      ]
     },
     "execution_count": 29,
     "metadata": {},
     "output_type": "execute_result"
    }
   ],
   "source": [
    "# Another check\n",
    "(us.count(), us.show(5))"
   ]
  },
  {
   "cell_type": "code",
   "execution_count": 30,
   "metadata": {
    "editable": true
   },
   "outputs": [],
   "source": [
    "# Change `state code` column name to `state_code` and other similar problems to avoid parquet complications\n",
    "us=us.select('City', col('State Code').alias('State_Code'), 'State', col('Median Age').alias('Median_age'),\n",
    "     col('Male Population').alias('Male_Pop'), col('Female Population').alias('Fem_Pop'), \n",
    "        col('Total Population').alias('Ttl_Pop'), 'Foreign-born', \n",
    "          col('Average Household Size').alias('Avg_Household_Size'),\n",
    "             col('American Indian and Alaska Native').alias('Native_Pop'), \n",
    "                 col('Asian').alias('Asian_Pop'), \n",
    "                    col('Black or African-American').alias('Black_Pop'), \n",
    "                      col('Hispanic or Latino').alias('Latino_Pop'), \n",
    "                        col('White').alias('White_Pop'))"
   ]
  },
  {
   "cell_type": "code",
   "execution_count": 31,
   "metadata": {
    "editable": true
   },
   "outputs": [],
   "source": [
    "# Drop the `state` column\n",
    "us=us.drop(\"state\")"
   ]
  },
  {
   "cell_type": "code",
   "execution_count": 32,
   "metadata": {
    "editable": true
   },
   "outputs": [
    {
     "data": {
      "text/plain": [
       "['City',\n",
       " 'State_Code',\n",
       " 'Median_age',\n",
       " 'Male_Pop',\n",
       " 'Fem_Pop',\n",
       " 'Ttl_Pop',\n",
       " 'Foreign-born',\n",
       " 'Avg_Household_Size',\n",
       " 'Native_Pop',\n",
       " 'Asian_Pop',\n",
       " 'Black_Pop',\n",
       " 'Latino_Pop',\n",
       " 'White_Pop']"
      ]
     },
     "execution_count": 32,
     "metadata": {},
     "output_type": "execute_result"
    }
   ],
   "source": [
    "us.columns"
   ]
  },
  {
   "cell_type": "code",
   "execution_count": 33,
   "metadata": {
    "editable": true
   },
   "outputs": [
    {
     "name": "stdout",
     "output_type": "stream",
     "text": [
      "+---------------+----------+----------+--------+-------+-------+------------+------------------+----------+---------+---------+----------+---------+\n",
      "|           City|State_Code|Median_age|Male_Pop|Fem_Pop|Ttl_Pop|Foreign-born|Avg_Household_Size|Native_Pop|Asian_Pop|Black_Pop|Latino_Pop|White_Pop|\n",
      "+---------------+----------+----------+--------+-------+-------+------------+------------------+----------+---------+---------+----------+---------+\n",
      "|Highlands Ranch|        CO|      39.6|   49186|  53281| 102467|        8827|              2.72|      1480|     5650|     1779|      8393|    94499|\n",
      "|           Kent|        WA|      33.4|   61825|  65137| 126962|       38175|              3.06|      3651|    26168|    20450|     21928|    67918|\n",
      "+---------------+----------+----------+--------+-------+-------+------------+------------------+----------+---------+---------+----------+---------+\n",
      "only showing top 2 rows\n",
      "\n"
     ]
    }
   ],
   "source": [
    "us.show(2)"
   ]
  },
  {
   "cell_type": "code",
   "execution_count": 34,
   "metadata": {
    "editable": true
   },
   "outputs": [
    {
     "name": "stdout",
     "output_type": "stream",
     "text": [
      "root\n",
      " |-- City: string (nullable = true)\n",
      " |-- State_Code: string (nullable = true)\n",
      " |-- Median_age: string (nullable = true)\n",
      " |-- Male_Pop: string (nullable = true)\n",
      " |-- Fem_Pop: string (nullable = true)\n",
      " |-- Ttl_Pop: string (nullable = true)\n",
      " |-- Foreign-born: string (nullable = true)\n",
      " |-- Avg_Household_Size: string (nullable = true)\n",
      " |-- Native_Pop: string (nullable = true)\n",
      " |-- Asian_Pop: string (nullable = true)\n",
      " |-- Black_Pop: string (nullable = true)\n",
      " |-- Latino_Pop: string (nullable = true)\n",
      " |-- White_Pop: string (nullable = true)\n",
      "\n"
     ]
    }
   ],
   "source": [
    "us.printSchema()"
   ]
  },
  {
   "cell_type": "code",
   "execution_count": 35,
   "metadata": {
    "editable": true
   },
   "outputs": [],
   "source": [
    "# Now write (and overwrite) transformed `US` dataset onto parquet file\n",
    "us.write.mode('overwrite').parquet(\"./data/us_cities_demographics.parquet\")"
   ]
  },
  {
   "cell_type": "markdown",
   "metadata": {
    "editable": true
   },
   "source": [
    "#### I94 NON-IMMIGRATION DATA SET (CLEANING AND TRANSFORMATION)"
   ]
  },
  {
   "cell_type": "code",
   "execution_count": 36,
   "metadata": {
    "editable": true
   },
   "outputs": [
    {
     "data": {
      "text/plain": [
       "['cicid',\n",
       " 'i94yr',\n",
       " 'i94mon',\n",
       " 'i94cit',\n",
       " 'i94res',\n",
       " 'i94port',\n",
       " 'arrdate',\n",
       " 'i94mode',\n",
       " 'i94addr',\n",
       " 'depdate',\n",
       " 'i94bir',\n",
       " 'i94visa',\n",
       " 'count',\n",
       " 'dtadfile',\n",
       " 'visapost',\n",
       " 'occup',\n",
       " 'entdepa',\n",
       " 'entdepd',\n",
       " 'entdepu',\n",
       " 'matflag',\n",
       " 'biryear',\n",
       " 'dtaddto',\n",
       " 'gender',\n",
       " 'insnum',\n",
       " 'airline',\n",
       " 'admnum',\n",
       " 'fltno',\n",
       " 'visatype']"
      ]
     },
     "execution_count": 36,
     "metadata": {},
     "output_type": "execute_result"
    }
   ],
   "source": [
    "# Read i94 non-immigration dataset\n",
    "i94_spark=spark.read.parquet(\"./data/sas_data\")\n",
    "i94_spark.columns"
   ]
  },
  {
   "cell_type": "code",
   "execution_count": null,
   "metadata": {
    "editable": true
   },
   "outputs": [],
   "source": []
  },
  {
   "cell_type": "code",
   "execution_count": 37,
   "metadata": {
    "editable": true
   },
   "outputs": [
    {
     "name": "stdout",
     "output_type": "stream",
     "text": [
      "+------+-------+-------+-------+-------+------+-------+-----+------+-----------+\n",
      "|i94res|i94port|arrdate|i94mode|depdate|i94bir|i94visa|count|gender|     admnum|\n",
      "+------+-------+-------+-------+-------+------+-------+-----+------+-----------+\n",
      "| 438.0|    LOS|20574.0|    1.0|20582.0|  40.0|    1.0|  1.0|     F|94953870030|\n",
      "| 438.0|    LOS|20574.0|    1.0|20591.0|  32.0|    1.0|  1.0|     F|94955622830|\n",
      "| 438.0|    LOS|20574.0|    1.0|20582.0|  29.0|    1.0|  1.0|     M|94956406530|\n",
      "+------+-------+-------+-------+-------+------+-------+-----+------+-----------+\n",
      "only showing top 3 rows\n",
      "\n"
     ]
    }
   ],
   "source": [
    "i94_spark.select(\"i94res\",\"i94port\",\"arrdate\",\"i94mode\",\"depdate\",\"i94bir\",\"i94visa\",\"count\" \\\n",
    "                  ,\"gender\",col(\"admnum\").cast(LongType())).show(3)"
   ]
  },
  {
   "cell_type": "code",
   "execution_count": 38,
   "metadata": {
    "editable": true
   },
   "outputs": [],
   "source": [
    "i94_spark=i94_spark.select(col(\"i94res\").cast(IntegerType()),col(\"i94port\"),\n",
    "                           col(\"arrdate\").cast(IntegerType()), \\\n",
    "                           col(\"i94mode\").cast(IntegerType()),col(\"depdate\").cast(IntegerType()),\n",
    "                           col(\"i94bir\").cast(IntegerType()),col(\"i94visa\").cast(IntegerType()), \n",
    "                           col(\"count\").cast(IntegerType()), \\\n",
    "                              \"gender\",col(\"admnum\").cast(LongType()))"
   ]
  },
  {
   "cell_type": "code",
   "execution_count": 39,
   "metadata": {
    "editable": true
   },
   "outputs": [
    {
     "name": "stdout",
     "output_type": "stream",
     "text": [
      "+------+-------+-------+-------+-------+------+-------+-----+------+-----------+\n",
      "|i94res|i94port|arrdate|i94mode|depdate|i94bir|i94visa|count|gender|     admnum|\n",
      "+------+-------+-------+-------+-------+------+-------+-----+------+-----------+\n",
      "|   438|    LOS|  20574|      1|  20582|    40|      1|    1|     F|94953870030|\n",
      "|   438|    LOS|  20574|      1|  20591|    32|      1|    1|     F|94955622830|\n",
      "|   438|    LOS|  20574|      1|  20582|    29|      1|    1|     M|94956406530|\n",
      "+------+-------+-------+-------+-------+------+-------+-----+------+-----------+\n",
      "only showing top 3 rows\n",
      "\n"
     ]
    }
   ],
   "source": [
    "i94_spark.show(3)"
   ]
  },
  {
   "cell_type": "code",
   "execution_count": 40,
   "metadata": {
    "editable": true
   },
   "outputs": [
    {
     "name": "stdout",
     "output_type": "stream",
     "text": [
      "i94_spark count:  3096313\n",
      "i94_spark duplicates 3096302\n"
     ]
    }
   ],
   "source": [
    "print('i94_spark count: ', i94_spark.count())\n",
    "print('i94_spark duplicates', i94_spark.dropDuplicates().count())\n"
   ]
  },
  {
   "cell_type": "code",
   "execution_count": 41,
   "metadata": {
    "editable": true
   },
   "outputs": [
    {
     "data": {
      "text/plain": [
       "3075579"
      ]
     },
     "execution_count": 41,
     "metadata": {},
     "output_type": "execute_result"
    }
   ],
   "source": [
    "i94_spark.dropDuplicates(['admnum']).count()"
   ]
  },
  {
   "cell_type": "code",
   "execution_count": 42,
   "metadata": {
    "editable": true
   },
   "outputs": [],
   "source": [
    "# We will drop duplicate rows and save it as final dataset for i94\n",
    "i94_spark=i94_spark.dropDuplicates()"
   ]
  },
  {
   "cell_type": "code",
   "execution_count": 43,
   "metadata": {
    "editable": true
   },
   "outputs": [
    {
     "name": "stdout",
     "output_type": "stream",
     "text": [
      "+------+-------+-------+-------+-------+------+-------+-----+------+-----------+\n",
      "|i94res|i94port|arrdate|i94mode|depdate|i94bir|i94visa|count|gender|     admnum|\n",
      "+------+-------+-------+-------+-------+------+-------+-----+------+-----------+\n",
      "|   582|    XXX|  20557|   null|  20558|    34|      2|    1|  null|91904214530|\n",
      "|   209|    AGA|  20552|      1|   null|  null|      2|    1|     M|47842155333|\n",
      "|   209|    ATL|  20571|      1|   null|  null|      2|    1|     M|44537883633|\n",
      "+------+-------+-------+-------+-------+------+-------+-----+------+-----------+\n",
      "only showing top 3 rows\n",
      "\n"
     ]
    }
   ],
   "source": [
    "i94_spark.show(3)"
   ]
  },
  {
   "cell_type": "code",
   "execution_count": 44,
   "metadata": {
    "editable": true
   },
   "outputs": [
    {
     "name": "stdout",
     "output_type": "stream",
     "text": [
      "root\n",
      " |-- i94res: integer (nullable = true)\n",
      " |-- i94port: string (nullable = true)\n",
      " |-- arrdate: integer (nullable = true)\n",
      " |-- i94mode: integer (nullable = true)\n",
      " |-- depdate: integer (nullable = true)\n",
      " |-- i94bir: integer (nullable = true)\n",
      " |-- i94visa: integer (nullable = true)\n",
      " |-- count: integer (nullable = true)\n",
      " |-- gender: string (nullable = true)\n",
      " |-- admnum: long (nullable = true)\n",
      "\n"
     ]
    }
   ],
   "source": [
    "i94_spark.printSchema()"
   ]
  },
  {
   "cell_type": "markdown",
   "metadata": {
    "editable": true
   },
   "source": [
    "#### read in sas _labels for further processing"
   ]
  },
  {
   "cell_type": "code",
   "execution_count": 45,
   "metadata": {
    "editable": true
   },
   "outputs": [],
   "source": [
    "with open('./data/I94_SAS_Labels_Descriptions.SAS') as f:\n",
    "    f_content = f.read()\n",
    "    f_content = f_content.replace('\\t', '')\n",
    "def code_mapper(file, idx):\n",
    "    f_content2 = f_content[f_content.index(idx):]\n",
    "    f_content2 = f_content2[:f_content2.index(';')].split('\\n')\n",
    "    f_content2 = [i.replace(\"'\", \"\") for i in f_content2]\n",
    "    dic = [i.split('=') for i in f_content2[1:]]\n",
    "    dic = dict([i[0].strip(), i[1].strip()] for i in dic if len(i) == 2)\n",
    "    return dic\n",
    "i94cit_res = code_mapper(f_content, \"i94cntyl\")\n",
    "i94port = code_mapper(f_content, \"i94prtl\")\n",
    "i94mode = code_mapper(f_content, \"i94model\")\n",
    "i94addr = code_mapper(f_content, \"i94addrl\")\n",
    "i94visa = {'1':'Business',  '2': 'Pleasure', '3' : 'Student'}"
   ]
  },
  {
   "cell_type": "code",
   "execution_count": 46,
   "metadata": {
    "editable": true
   },
   "outputs": [
    {
     "name": "stdout",
     "output_type": "stream",
     "text": [
      "{'582': 'MEXICO Air Sea, and Not Reported (I-94, no land arrivals)', '236': 'AFGHANISTAN', '101': 'ALBANIA', '316': 'ALGERIA', '102': 'ANDORRA'}\n",
      "{'ALC': 'ALCAN, AK', 'ANC': 'ANCHORAGE, AK', 'BAR': 'BAKER AAF - BAKER ISLAND, AK', 'DAC': 'DALTONS CACHE, AK', 'PIZ': 'DEW STATION PT LAY DEW, AK'}\n",
      "{'1': 'Air', '2': 'Sea', '3': 'Land', '9': 'Not reported'}\n",
      "{'AL': 'ALABAMA', 'AK': 'ALASKA', 'AZ': 'ARIZONA', 'AR': 'ARKANSAS', 'CA': 'CALIFORNIA'}\n",
      "{'1': 'Business', '2': 'Pleasure', '3': 'Student'}\n"
     ]
    }
   ],
   "source": [
    "labeldescription = [i94cit_res, i94port, i94mode, i94addr, i94visa]\n",
    "for i in labeldescription:\n",
    "    print(dict(list(i.items())[0:5]))"
   ]
  },
  {
   "cell_type": "markdown",
   "metadata": {
    "editable": true
   },
   "source": [
    "#### Performing cleaning tasks for i94 code lists and creating dimension tables"
   ]
  },
  {
   "cell_type": "code",
   "execution_count": 47,
   "metadata": {
    "editable": true
   },
   "outputs": [],
   "source": [
    "\n",
    "# Start processing the I9I94_SAS_Labels_Description.SAS to create master i94 code dimensions:\n",
    "\n",
    "'''\n",
    "/* I94MODE - There are missing values as well as not reported (9) */\n",
    "\t1 = 'Air'\n",
    "\t2 = 'Sea'\n",
    "\t3 = 'Land'\n",
    "\t9 = 'Not reported' ;\n",
    "'''\n",
    "# Create i94mode list\n",
    "i94mode_data =[[1,'Air'],[2,'Sea'],[3,'Land'],[9,'Not reported']]\n",
    "\n",
    "# Convert to spark dataframe\n",
    "i94mode=spark.createDataFrame(i94mode_data)\n",
    "\n",
    "# Create i94mode parquet file\n",
    "i94mode.write.mode(\"overwrite\").parquet('./data/i94mode.parquet')"
   ]
  },
  {
   "cell_type": "code",
   "execution_count": 48,
   "metadata": {
    "editable": true
   },
   "outputs": [
    {
     "name": "stdout",
     "output_type": "stream",
     "text": [
      "root\n",
      " |-- _1: long (nullable = true)\n",
      " |-- _2: string (nullable = true)\n",
      "\n"
     ]
    }
   ],
   "source": [
    "i94mode.printSchema()"
   ]
  },
  {
   "cell_type": "code",
   "execution_count": 49,
   "metadata": {
    "editable": true
   },
   "outputs": [],
   "source": [
    "df = pd.DataFrame(list(i94port.items()),columns = ['id','port_city']) "
   ]
  },
  {
   "cell_type": "code",
   "execution_count": 50,
   "metadata": {
    "editable": true
   },
   "outputs": [],
   "source": [
    "i94port_df = pd.concat([df, df['port_city'].str.split(', ', expand=True)], axis=1).drop(columns=['port_city', 2]).rename(columns={0: 'city', 1: 'state'})#.set_index('id')"
   ]
  },
  {
   "cell_type": "code",
   "execution_count": 51,
   "metadata": {
    "editable": true
   },
   "outputs": [],
   "source": [
    "i94port_df.to_csv('./data/i94port.csv')"
   ]
  },
  {
   "cell_type": "code",
   "execution_count": 52,
   "metadata": {
    "editable": true
   },
   "outputs": [],
   "source": [
    "# Read i94port text file\n",
    "i94port_df = pd.read_csv('./data/i94port.csv')"
   ]
  },
  {
   "cell_type": "code",
   "execution_count": 53,
   "metadata": {
    "editable": true
   },
   "outputs": [],
   "source": [
    "i94port_data=i94port_df.values.tolist()"
   ]
  },
  {
   "cell_type": "code",
   "execution_count": 54,
   "metadata": {
    "editable": true
   },
   "outputs": [],
   "source": [
    "# Now convert list to spark dataframe\n",
    "# Create a schema for the dataframe\n",
    "i94port_schema = StructType([\n",
    "    StructField('id', StringType(), True),\n",
    "    StructField('port', StringType(), True),\n",
    "    StructField('port_city', StringType(), True),\n",
    "    StructField('port_state', StringType(), True)\n",
    "])\n",
    "i94port=spark.createDataFrame(i94port_data, i94port_schema)"
   ]
  },
  {
   "cell_type": "code",
   "execution_count": 55,
   "metadata": {
    "editable": true
   },
   "outputs": [
    {
     "name": "stdout",
     "output_type": "stream",
     "text": [
      "root\n",
      " |-- id: string (nullable = true)\n",
      " |-- port: string (nullable = true)\n",
      " |-- port_city: string (nullable = true)\n",
      " |-- port_state: string (nullable = true)\n",
      "\n"
     ]
    }
   ],
   "source": [
    "i94port.printSchema()"
   ]
  },
  {
   "cell_type": "code",
   "execution_count": 56,
   "metadata": {
    "editable": true
   },
   "outputs": [
    {
     "name": "stdout",
     "output_type": "stream",
     "text": [
      "+---+----+--------------------+----------+\n",
      "| id|port|           port_city|port_state|\n",
      "+---+----+--------------------+----------+\n",
      "|  0| ALC|               ALCAN|        AK|\n",
      "|  1| ANC|           ANCHORAGE|        AK|\n",
      "|  2| BAR|BAKER AAF - BAKER...|        AK|\n",
      "|  3| DAC|       DALTONS CACHE|        AK|\n",
      "|  4| PIZ|DEW STATION PT LA...|        AK|\n",
      "|  5| DTH|        DUTCH HARBOR|        AK|\n",
      "|  6| EGL|               EAGLE|        AK|\n",
      "|  7| FRB|           FAIRBANKS|        AK|\n",
      "|  8| HOM|               HOMER|        AK|\n",
      "|  9| HYD|               HYDER|        AK|\n",
      "+---+----+--------------------+----------+\n",
      "only showing top 10 rows\n",
      "\n"
     ]
    }
   ],
   "source": [
    "i94port.show(10)"
   ]
  },
  {
   "cell_type": "code",
   "execution_count": 57,
   "metadata": {
    "editable": true
   },
   "outputs": [],
   "source": [
    "# CREATE PARQUET FILE\n",
    "i94port.write.mode('overwrite').parquet('./data/i94port.parquet')"
   ]
  },
  {
   "cell_type": "code",
   "execution_count": 58,
   "metadata": {
    "editable": true
   },
   "outputs": [],
   "source": [
    "i94res_df = pd.DataFrame(list(i94cit_res.items()),columns = ['id','country']) \n",
    "#Remove whitespaces and single quotes\n",
    "#i94res_df['country']=i94res_df['country'].str.replace(\"'\",'').str.strip()\n",
    "# Convert pandas dataframe to list (objects which had single quotes removed automatically become string again with single quotes)\n",
    "i94res_data=i94res_df.values.tolist()"
   ]
  },
  {
   "cell_type": "code",
   "execution_count": 59,
   "metadata": {
    "editable": true
   },
   "outputs": [],
   "source": [
    "# Now convert list to spark dataframe\n",
    "# Create a schema for the dataframe\n",
    "i94res_schema = StructType([\n",
    "    StructField('id', StringType(), True),\n",
    "    StructField('country', StringType(), True)\n",
    "])\n",
    "i94res=spark.createDataFrame(i94res_data, i94res_schema)"
   ]
  },
  {
   "cell_type": "code",
   "execution_count": 60,
   "metadata": {
    "editable": true
   },
   "outputs": [
    {
     "name": "stdout",
     "output_type": "stream",
     "text": [
      "root\n",
      " |-- id: string (nullable = true)\n",
      " |-- country: string (nullable = true)\n",
      "\n"
     ]
    }
   ],
   "source": [
    "i94res.printSchema()"
   ]
  },
  {
   "cell_type": "code",
   "execution_count": 61,
   "metadata": {
    "editable": true
   },
   "outputs": [],
   "source": [
    "# Create parquet file\n",
    "i94res.write.mode('overwrite').parquet('./data/i94res.parquet')"
   ]
  },
  {
   "cell_type": "code",
   "execution_count": 62,
   "metadata": {
    "editable": true
   },
   "outputs": [],
   "source": [
    "'''/* I94VISA - Visa codes collapsed into three categories:\n",
    "   1 = Business\n",
    "   2 = Pleasure\n",
    "   3 = Student\n",
    "*/'''\n",
    "i94visa_data = [[1, 'Business'], [2, 'Pleasure'], [3, 'Student']]"
   ]
  },
  {
   "cell_type": "code",
   "execution_count": 63,
   "metadata": {
    "editable": true
   },
   "outputs": [],
   "source": [
    "# Convert to spark dataframe\n",
    "i94visa=spark.createDataFrame(i94visa_data)"
   ]
  },
  {
   "cell_type": "code",
   "execution_count": 64,
   "metadata": {
    "editable": true
   },
   "outputs": [
    {
     "name": "stdout",
     "output_type": "stream",
     "text": [
      "root\n",
      " |-- _1: long (nullable = true)\n",
      " |-- _2: string (nullable = true)\n",
      "\n"
     ]
    }
   ],
   "source": [
    "i94visa.printSchema()"
   ]
  },
  {
   "cell_type": "code",
   "execution_count": 65,
   "metadata": {
    "editable": true
   },
   "outputs": [],
   "source": [
    "# CREATE PARQUET FILE\n",
    "i94visa.write.mode('overwrite').parquet('./data/i94visa.parquet')"
   ]
  },
  {
   "cell_type": "code",
   "execution_count": 66,
   "metadata": {
    "editable": true
   },
   "outputs": [
    {
     "name": "stdout",
     "output_type": "stream",
     "text": [
      "+---------------+----------+----------+--------+-------+-------+------------+------------------+----------+---------+---------+----------+---------+\n",
      "|           City|State_Code|Median_age|Male_Pop|Fem_Pop|Ttl_Pop|Foreign-born|Avg_Household_Size|Native_Pop|Asian_Pop|Black_Pop|Latino_Pop|White_Pop|\n",
      "+---------------+----------+----------+--------+-------+-------+------------+------------------+----------+---------+---------+----------+---------+\n",
      "|Highlands Ranch|        CO|      39.6|   49186|  53281| 102467|        8827|              2.72|      1480|     5650|     1779|      8393|    94499|\n",
      "|           Kent|        WA|      33.4|   61825|  65137| 126962|       38175|              3.06|      3651|    26168|    20450|     21928|    67918|\n",
      "|        Madison|        WI|      30.7|  122596| 126360| 248956|       30090|              2.23|      2296|    23937|    20424|     19697|   204302|\n",
      "+---------------+----------+----------+--------+-------+-------+------------+------------------+----------+---------+---------+----------+---------+\n",
      "only showing top 3 rows\n",
      "\n"
     ]
    }
   ],
   "source": [
    "us.show(3)"
   ]
  },
  {
   "cell_type": "code",
   "execution_count": 67,
   "metadata": {
    "editable": true
   },
   "outputs": [
    {
     "name": "stdout",
     "output_type": "stream",
     "text": [
      "+------+-------+-------+-------+-------+------+-------+-----+------+-----------+\n",
      "|i94res|i94port|arrdate|i94mode|depdate|i94bir|i94visa|count|gender|     admnum|\n",
      "+------+-------+-------+-------+-------+------+-------+-----+------+-----------+\n",
      "|   582|    XXX|  20557|   null|  20558|    34|      2|    1|  null|91904214530|\n",
      "|   209|    AGA|  20552|      1|   null|  null|      2|    1|     M|47842155333|\n",
      "|   209|    ATL|  20571|      1|   null|  null|      2|    1|     M|44537883633|\n",
      "+------+-------+-------+-------+-------+------+-------+-----+------+-----------+\n",
      "only showing top 3 rows\n",
      "\n"
     ]
    }
   ],
   "source": [
    "i94_spark.show(3)"
   ]
  },
  {
   "cell_type": "code",
   "execution_count": 68,
   "metadata": {
    "editable": true
   },
   "outputs": [
    {
     "data": {
      "text/plain": [
       "3096302"
      ]
     },
     "execution_count": 68,
     "metadata": {},
     "output_type": "execute_result"
    }
   ],
   "source": [
    "# Add i94port city and state columns to i94 dataframe\n",
    "i94_spark.join(i94port, i94_spark.i94port==i94port.id, how='left').count()"
   ]
  },
  {
   "cell_type": "code",
   "execution_count": 69,
   "metadata": {
    "editable": true
   },
   "outputs": [],
   "source": [
    "i94_spark=i94_spark.join(i94port, i94_spark.i94port==i94port.port, how='left')"
   ]
  },
  {
   "cell_type": "code",
   "execution_count": 70,
   "metadata": {
    "editable": true
   },
   "outputs": [],
   "source": [
    "# Drop `id` column\n",
    "i94_spark=i94_spark.drop(\"id\")"
   ]
  },
  {
   "cell_type": "code",
   "execution_count": 71,
   "metadata": {
    "editable": true
   },
   "outputs": [
    {
     "name": "stdout",
     "output_type": "stream",
     "text": [
      "+------+-------+-------+-------+-------+------+-------+-----+------+-----------+----+---------+----------+\n",
      "|i94res|i94port|arrdate|i94mode|depdate|i94bir|i94visa|count|gender|     admnum|port|port_city|port_state|\n",
      "+------+-------+-------+-------+-------+------+-------+-----+------+-----------+----+---------+----------+\n",
      "|   110|    BGM|  20550|      1|  20556|    36|      1|    1|     F|92847893530| BGM|   BANGOR|        ME|\n",
      "|   108|    BGM|  20569|      1|  20571|    43|      1|    1|     M|59234302533| BGM|   BANGOR|        ME|\n",
      "|   129|    BGM|  20559|      1|  20584|    67|      1|    1|     M|93553405030| BGM|   BANGOR|        ME|\n",
      "+------+-------+-------+-------+-------+------+-------+-----+------+-----------+----+---------+----------+\n",
      "only showing top 3 rows\n",
      "\n"
     ]
    }
   ],
   "source": [
    "i94_spark.show(3)"
   ]
  },
  {
   "cell_type": "code",
   "execution_count": 72,
   "metadata": {
    "editable": true
   },
   "outputs": [
    {
     "name": "stdout",
     "output_type": "stream",
     "text": [
      "+---------------+----------+----------+--------+-------+-------+------------+------------------+----------+---------+---------+----------+---------+\n",
      "|           City|State_Code|Median_age|Male_Pop|Fem_Pop|Ttl_Pop|Foreign-born|Avg_Household_Size|Native_Pop|Asian_Pop|Black_Pop|Latino_Pop|White_Pop|\n",
      "+---------------+----------+----------+--------+-------+-------+------------+------------------+----------+---------+---------+----------+---------+\n",
      "|Highlands Ranch|        CO|      39.6|   49186|  53281| 102467|        8827|              2.72|      1480|     5650|     1779|      8393|    94499|\n",
      "|           Kent|        WA|      33.4|   61825|  65137| 126962|       38175|              3.06|      3651|    26168|    20450|     21928|    67918|\n",
      "|        Madison|        WI|      30.7|  122596| 126360| 248956|       30090|              2.23|      2296|    23937|    20424|     19697|   204302|\n",
      "+---------------+----------+----------+--------+-------+-------+------------+------------------+----------+---------+---------+----------+---------+\n",
      "only showing top 3 rows\n",
      "\n"
     ]
    }
   ],
   "source": [
    "us.show(3)"
   ]
  },
  {
   "cell_type": "code",
   "execution_count": 73,
   "metadata": {
    "editable": true
   },
   "outputs": [],
   "source": [
    "# Join US with i94_spark to get fact table `i94non_immigrant_port_entry`\n",
    "# NOTE: We use left join againt city records which may cause null values because\n",
    "# we may not currently have demographic stats on all U.S. ports of entry\n",
    "i94non_immigrant_port_entry=i94_spark.join(us, (upper(i94_spark.port_city)==upper(us.City)) & \\\n",
    "                                           (upper(i94_spark.port_state)==upper(us.State_Code)), how='left')"
   ]
  },
  {
   "cell_type": "code",
   "execution_count": 74,
   "metadata": {
    "editable": true
   },
   "outputs": [
    {
     "data": {
      "text/plain": [
       "3096302"
      ]
     },
     "execution_count": 74,
     "metadata": {},
     "output_type": "execute_result"
    }
   ],
   "source": [
    "i94non_immigrant_port_entry.count()"
   ]
  },
  {
   "cell_type": "code",
   "execution_count": 75,
   "metadata": {
    "editable": true
   },
   "outputs": [
    {
     "name": "stdout",
     "output_type": "stream",
     "text": [
      "root\n",
      " |-- i94res: integer (nullable = true)\n",
      " |-- i94port: string (nullable = true)\n",
      " |-- arrdate: integer (nullable = true)\n",
      " |-- i94mode: integer (nullable = true)\n",
      " |-- depdate: integer (nullable = true)\n",
      " |-- i94bir: integer (nullable = true)\n",
      " |-- i94visa: integer (nullable = true)\n",
      " |-- count: integer (nullable = true)\n",
      " |-- gender: string (nullable = true)\n",
      " |-- admnum: long (nullable = true)\n",
      " |-- port: string (nullable = true)\n",
      " |-- port_city: string (nullable = true)\n",
      " |-- port_state: string (nullable = true)\n",
      " |-- City: string (nullable = true)\n",
      " |-- State_Code: string (nullable = true)\n",
      " |-- Median_age: string (nullable = true)\n",
      " |-- Male_Pop: string (nullable = true)\n",
      " |-- Fem_Pop: string (nullable = true)\n",
      " |-- Ttl_Pop: string (nullable = true)\n",
      " |-- Foreign-born: string (nullable = true)\n",
      " |-- Avg_Household_Size: string (nullable = true)\n",
      " |-- Native_Pop: string (nullable = true)\n",
      " |-- Asian_Pop: string (nullable = true)\n",
      " |-- Black_Pop: string (nullable = true)\n",
      " |-- Latino_Pop: string (nullable = true)\n",
      " |-- White_Pop: string (nullable = true)\n",
      "\n"
     ]
    }
   ],
   "source": [
    "\n",
    "i94non_immigrant_port_entry.printSchema()"
   ]
  },
  {
   "cell_type": "code",
   "execution_count": 76,
   "metadata": {
    "editable": true
   },
   "outputs": [],
   "source": [
    "# Drop City and State_Code\n",
    "i94non_immigrant_port_entry=i94non_immigrant_port_entry.drop(\"City\",\"State_Code\")"
   ]
  },
  {
   "cell_type": "code",
   "execution_count": 77,
   "metadata": {
    "editable": true
   },
   "outputs": [
    {
     "name": "stdout",
     "output_type": "stream",
     "text": [
      "+------+-------+-------+-------+-------+------+-------+-----+------+-----------+----+---------+----------+----------+--------+-------+-------+------------+------------------+----------+---------+---------+----------+---------+\n",
      "|i94res|i94port|arrdate|i94mode|depdate|i94bir|i94visa|count|gender|     admnum|port|port_city|port_state|Median_age|Male_Pop|Fem_Pop|Ttl_Pop|Foreign-born|Avg_Household_Size|Native_Pop|Asian_Pop|Black_Pop|Latino_Pop|White_Pop|\n",
      "+------+-------+-------+-------+-------+------+-------+-----+------+-----------+----+---------+----------+----------+--------+-------+-------+------------+------------------+----------+---------+---------+----------+---------+\n",
      "|   103|    NEC|  20556|      3|  20557|    51|      2|    1|     F|  788711085| NEC|    NECHE|        ND|      null|    null|   null|   null|        null|              null|      null|     null|     null|      null|     null|\n",
      "|   112|    NEC|  20573|      3|  20575|    32|      2|    1|     F|59477349333| NEC|    NECHE|        ND|      null|    null|   null|   null|        null|              null|      null|     null|     null|      null|     null|\n",
      "|   245|    LEW|  20574|      3|  20576|    21|      2|    1|     F|94960311530| LEW| LEWISTON|        NY|      null|    null|   null|   null|        null|              null|      null|     null|     null|      null|     null|\n",
      "|   245|    LEW|  20546|      3|   null|    27|      3|    1|     F|71136033030| LEW| LEWISTON|        NY|      null|    null|   null|   null|        null|              null|      null|     null|     null|      null|     null|\n",
      "|   263|    LEW|  20559|      3|  20561|    38|      2|    1|  null|93151263430| LEW| LEWISTON|        NY|      null|    null|   null|   null|        null|              null|      null|     null|     null|      null|     null|\n",
      "+------+-------+-------+-------+-------+------+-------+-----+------+-----------+----+---------+----------+----------+--------+-------+-------+------------+------------------+----------+---------+---------+----------+---------+\n",
      "only showing top 5 rows\n",
      "\n"
     ]
    }
   ],
   "source": [
    "i94non_immigrant_port_entry.show(5)"
   ]
  },
  {
   "cell_type": "code",
   "execution_count": 78,
   "metadata": {
    "editable": true
   },
   "outputs": [],
   "source": [
    "# Convert SAS arrival date to datetime format\n",
    "get_date = udf(lambda x: (dt.datetime(1960, 1, 1).date() + dt.timedelta(x)).isoformat() if x else None)\n",
    "i94non_immigrant_port_entry = i94non_immigrant_port_entry.withColumn(\"arrival_date\", get_date(i94non_immigrant_port_entry.arrdate))"
   ]
  },
  {
   "cell_type": "code",
   "execution_count": 79,
   "metadata": {
    "editable": true
   },
   "outputs": [
    {
     "name": "stdout",
     "output_type": "stream",
     "text": [
      "+------+-------+-------+-------+-------+------+-------+-----+------+-----------+----+---------+----------+----------+--------+-------+-------+------------+------------------+----------+---------+---------+----------+---------+------------+\n",
      "|i94res|i94port|arrdate|i94mode|depdate|i94bir|i94visa|count|gender|     admnum|port|port_city|port_state|Median_age|Male_Pop|Fem_Pop|Ttl_Pop|Foreign-born|Avg_Household_Size|Native_Pop|Asian_Pop|Black_Pop|Latino_Pop|White_Pop|arrival_date|\n",
      "+------+-------+-------+-------+-------+------+-------+-----+------+-----------+----+---------+----------+----------+--------+-------+-------+------------+------------------+----------+---------+---------+----------+---------+------------+\n",
      "|   103|    NEC|  20556|      3|  20557|    51|      2|    1|     F|  788711085| NEC|    NECHE|        ND|      null|    null|   null|   null|        null|              null|      null|     null|     null|      null|     null|  2016-04-12|\n",
      "|   112|    NEC|  20573|      3|  20575|    32|      2|    1|     F|59477349333| NEC|    NECHE|        ND|      null|    null|   null|   null|        null|              null|      null|     null|     null|      null|     null|  2016-04-29|\n",
      "|   245|    LEW|  20574|      3|  20576|    21|      2|    1|     F|94960311530| LEW| LEWISTON|        NY|      null|    null|   null|   null|        null|              null|      null|     null|     null|      null|     null|  2016-04-30|\n",
      "+------+-------+-------+-------+-------+------+-------+-----+------+-----------+----+---------+----------+----------+--------+-------+-------+------------+------------------+----------+---------+---------+----------+---------+------------+\n",
      "only showing top 3 rows\n",
      "\n"
     ]
    }
   ],
   "source": [
    "i94non_immigrant_port_entry.show(3)"
   ]
  },
  {
   "cell_type": "code",
   "execution_count": 80,
   "metadata": {
    "editable": true
   },
   "outputs": [],
   "source": [
    "#The Data could be enriched with some more info on date values\n",
    "i94date=i94non_immigrant_port_entry.select(col('arrdate').alias('arrival_sasdate'),\n",
    "                                   col('arrival_date').alias('arrival_iso_date'),\n",
    "                                   date_format('arrival_date','M').alias('arrival_month'),\n",
    "                                   date_format('arrival_date','E').alias('arrival_dayofweek'), \n",
    "                                   date_format('arrival_date', 'y').alias('arrival_year'), \n",
    "                                   date_format('arrival_date', 'd').alias('arrival_day'),\n",
    "                                  date_format('arrival_date','w').alias('arrival_weekofyear')).dropDuplicates()"
   ]
  },
  {
   "cell_type": "code",
   "execution_count": 81,
   "metadata": {
    "editable": true
   },
   "outputs": [],
   "source": [
    "# Drop arrival_date column from the i94non_immigrant_port_entry dataframe and finally save it to parquet file \n",
    "i94non_immigrant_port_entry.drop('arrival_date').write.mode(\"overwrite\").parquet('./data/i94non_immigrant_port_entry.parquet')"
   ]
  },
  {
   "cell_type": "code",
   "execution_count": 82,
   "metadata": {
    "editable": true
   },
   "outputs": [
    {
     "name": "stdout",
     "output_type": "stream",
     "text": [
      "root\n",
      " |-- i94res: integer (nullable = true)\n",
      " |-- i94port: string (nullable = true)\n",
      " |-- arrdate: integer (nullable = true)\n",
      " |-- i94mode: integer (nullable = true)\n",
      " |-- depdate: integer (nullable = true)\n",
      " |-- i94bir: integer (nullable = true)\n",
      " |-- i94visa: integer (nullable = true)\n",
      " |-- count: integer (nullable = true)\n",
      " |-- gender: string (nullable = true)\n",
      " |-- admnum: long (nullable = true)\n",
      " |-- port: string (nullable = true)\n",
      " |-- port_city: string (nullable = true)\n",
      " |-- port_state: string (nullable = true)\n",
      " |-- Median_age: string (nullable = true)\n",
      " |-- Male_Pop: string (nullable = true)\n",
      " |-- Fem_Pop: string (nullable = true)\n",
      " |-- Ttl_Pop: string (nullable = true)\n",
      " |-- Foreign-born: string (nullable = true)\n",
      " |-- Avg_Household_Size: string (nullable = true)\n",
      " |-- Native_Pop: string (nullable = true)\n",
      " |-- Asian_Pop: string (nullable = true)\n",
      " |-- Black_Pop: string (nullable = true)\n",
      " |-- Latino_Pop: string (nullable = true)\n",
      " |-- White_Pop: string (nullable = true)\n",
      " |-- arrival_date: string (nullable = true)\n",
      "\n"
     ]
    }
   ],
   "source": [
    "i94non_immigrant_port_entry.printSchema()"
   ]
  },
  {
   "cell_type": "code",
   "execution_count": 83,
   "metadata": {
    "editable": true
   },
   "outputs": [
    {
     "data": {
      "text/plain": [
       "30"
      ]
     },
     "execution_count": 83,
     "metadata": {},
     "output_type": "execute_result"
    }
   ],
   "source": [
    "i94date.count()"
   ]
  },
  {
   "cell_type": "code",
   "execution_count": 84,
   "metadata": {
    "editable": true
   },
   "outputs": [
    {
     "name": "stdout",
     "output_type": "stream",
     "text": [
      "+---------------+----------------+-------------+-----------------+------------+-----------+------------------+\n",
      "|arrival_sasdate|arrival_iso_date|arrival_month|arrival_dayofweek|arrival_year|arrival_day|arrival_weekofyear|\n",
      "+---------------+----------------+-------------+-----------------+------------+-----------+------------------+\n",
      "|          20562|      2016-04-18|            4|              Mon|        2016|         18|                17|\n",
      "|          20554|      2016-04-10|            4|              Sun|        2016|         10|                16|\n",
      "|          20556|      2016-04-12|            4|              Tue|        2016|         12|                16|\n",
      "|          20548|      2016-04-04|            4|              Mon|        2016|          4|                15|\n",
      "|          20553|      2016-04-09|            4|              Sat|        2016|          9|                15|\n",
      "+---------------+----------------+-------------+-----------------+------------+-----------+------------------+\n",
      "only showing top 5 rows\n",
      "\n"
     ]
    }
   ],
   "source": [
    "i94date.show(5)"
   ]
  },
  {
   "cell_type": "code",
   "execution_count": 85,
   "metadata": {
    "editable": true
   },
   "outputs": [],
   "source": [
    "# Create temporary sql table\n",
    "i94date.createOrReplaceTempView(\"i94date_table\")"
   ]
  },
  {
   "cell_type": "code",
   "execution_count": 86,
   "metadata": {
    "editable": true
   },
   "outputs": [],
   "source": [
    "# Add seasons to i94 date dimension table\n",
    "i94date_season=spark.sql('''select arrival_sasdate,\n",
    "                         arrival_iso_date,\n",
    "                         arrival_month,\n",
    "                         arrival_dayofweek,\n",
    "                         arrival_year,\n",
    "                         arrival_day,\n",
    "                         arrival_weekofyear,\n",
    "                         CASE WHEN arrival_month IN (12, 1, 2) THEN 'winter' \n",
    "                                WHEN arrival_month IN (3, 4, 5) THEN 'spring' \n",
    "                                WHEN arrival_month IN (6, 7, 8) THEN 'summer' \n",
    "                                ELSE 'autumn' \n",
    "                         END AS date_season from i94date_table''')"
   ]
  },
  {
   "cell_type": "code",
   "execution_count": 87,
   "metadata": {
    "editable": true
   },
   "outputs": [
    {
     "name": "stdout",
     "output_type": "stream",
     "text": [
      "+---------------+----------------+-------------+-----------------+------------+-----------+------------------+-----------+\n",
      "|arrival_sasdate|arrival_iso_date|arrival_month|arrival_dayofweek|arrival_year|arrival_day|arrival_weekofyear|date_season|\n",
      "+---------------+----------------+-------------+-----------------+------------+-----------+------------------+-----------+\n",
      "|          20562|      2016-04-18|            4|              Mon|        2016|         18|                17|     spring|\n",
      "|          20554|      2016-04-10|            4|              Sun|        2016|         10|                16|     spring|\n",
      "|          20556|      2016-04-12|            4|              Tue|        2016|         12|                16|     spring|\n",
      "+---------------+----------------+-------------+-----------------+------------+-----------+------------------+-----------+\n",
      "only showing top 3 rows\n",
      "\n"
     ]
    }
   ],
   "source": [
    "i94date_season.show(3)"
   ]
  },
  {
   "cell_type": "code",
   "execution_count": 88,
   "metadata": {
    "editable": true
   },
   "outputs": [
    {
     "name": "stdout",
     "output_type": "stream",
     "text": [
      "root\n",
      " |-- arrival_sasdate: integer (nullable = true)\n",
      " |-- arrival_iso_date: string (nullable = true)\n",
      " |-- arrival_month: string (nullable = true)\n",
      " |-- arrival_dayofweek: string (nullable = true)\n",
      " |-- arrival_year: string (nullable = true)\n",
      " |-- arrival_day: string (nullable = true)\n",
      " |-- arrival_weekofyear: string (nullable = true)\n",
      " |-- date_season: string (nullable = false)\n",
      "\n"
     ]
    }
   ],
   "source": [
    "i94date_season.printSchema()"
   ]
  },
  {
   "cell_type": "code",
   "execution_count": 89,
   "metadata": {
    "editable": true
   },
   "outputs": [],
   "source": [
    "# Save i94date dimension to parquet file partitioned by year and month:\n",
    "i94date_season.write.mode(\"overwrite\").partitionBy(\"arrival_year\", \"arrival_month\").parquet('./data/i94date.parquet')"
   ]
  },
  {
   "cell_type": "markdown",
   "metadata": {
    "editable": true
   },
   "source": [
    "### Step 3: Define the Data Model\n",
    "#### 3.1 Conceptual Data Model\n",
    "Map out the conceptual data model and explain why you chose that model\n",
    "\n",
    "The parquet files we wrote could be used for any columnar database. As the data is not that big it could be even simply just storaged as a csv in AWS S3. The Star Schema model was chosen because it will be easier for Data Analysts and Data Scientists to understand and apply queries with best performance outcomes and flexibility without constructing complex joins over several tables."
   ]
  },
  {
   "cell_type": "markdown",
   "metadata": {
    "editable": true
   },
   "source": [
    "#### 3.2 Mapping Out Data Pipelines\n",
    "List the steps necessary to pipeline the data into the chosen data model\n",
    "\n",
    "- Create the dimensions (i94port, i94visa, i94res, i94mode) from i94_SAS_Labels_Descriptions.SAS file. *NOTE: Once they're created it does not have to be included in future Data Pipeline schedules because these are essentially master records which do not frequently get added or changed on the dimension tables.\n",
    "- Read US Cities Demo dataset file to form us_spark dataframe\n",
    "- Create 'us_race_cnt' from us_spark\n",
    "- Drop columns we don't need and drop duplicate rows from us_spark\n",
    "- Join us_spark with us_race_cnt to form US data set\n",
    "- Change state code column name to state_code and other similar problems to avoid parquet complications and drop the state column\n",
    "- Write (and overwrite) transformed US dataset onto parquet file\n",
    "- Read i94 non-immigration dataset to form i94_spark dataframe\n",
    "- Convert numbers to longtype and integertype\n",
    "- Drop duplicate rows\n",
    "- Read i94port dimension parquet file so we can use it to join with i94_spark. This will add i94port city and state columns to i94_spark dataframe\n",
    "- Drop id column from i94_spark dataframe\n",
    "- Join US with i94_spark to get fact table i94non_immigrant_port_entry\n",
    "- Add iso date format column arrival_date inside the i94non_immigrant_port_entry dataframe by using custom function.\n",
    "- Create time dimension from i94non_immigrant_port_entry and save to parquet file.\n",
    "- Drop arrival_date column from i94non_immigrant_port_entry and save it to parquet file.\n",
    "- Add seasons to i94date_seasons dataframe.\n",
    "- Save i94date_seasons to parquet file partitioned by year and month."
   ]
  },
  {
   "cell_type": "markdown",
   "metadata": {
    "editable": true
   },
   "source": [
    "### Step 4: Run Pipelines to Model the Data \n",
    "#### 4.1 Create the data model\n",
    "Build the data pipelines to create the data model."
   ]
  },
  {
   "cell_type": "markdown",
   "metadata": {
    "editable": true
   },
   "source": [
    "The data pipeline is built inside the ETL.py file included with this Capstone Project."
   ]
  },
  {
   "cell_type": "markdown",
   "metadata": {
    "editable": true
   },
   "source": [
    "#### 4.2 Data Quality Checks\n",
    "Explain the data quality checks you'll perform to ensure the pipeline ran as expected. These could include:\n",
    " * Integrity constraints on the relational database (e.g., unique key, data type, etc.)\n",
    " * Unit tests for the scripts to ensure they are doing the right thing\n",
    " * Source/Count checks to ensure completeness\n",
    " \n",
    "Run Quality Checks"
   ]
  },
  {
   "cell_type": "code",
   "execution_count": 93,
   "metadata": {
    "editable": true
   },
   "outputs": [
    {
     "name": "stdout",
     "output_type": "stream",
     "text": [
      "Passed reading data file.\n",
      "Transformation went perfect.\n",
      "Passed reading data file.\n",
      "Transformation went perfect.\n"
     ]
    }
   ],
   "source": [
    "# Perform quality checks here\n",
    "\n",
    "if us_spark.count() > 0:\n",
    "    print('Passed reading data file.')\n",
    "else:\n",
    "    print('Seems to be nothing in file!')\n",
    "\n",
    "if us.count() == us_race_count.count():\n",
    "    print('Transformation went perfect.')\n",
    "else:\n",
    "    print('Inconsistant data between both dataframes!')\n",
    "\n",
    "if i94_spark.count() > 0:\n",
    "    print('Passed reading data file.')\n",
    "else:\n",
    "    print('Seems to be nothing in file!')\n",
    "    \n",
    "if i94_spark.count() == i94non_immigrant_port_entry.count():\n",
    "    print('Transformation went perfect.')\n",
    "else:\n",
    "    print('Inconsistant data between both dataframes!')"
   ]
  },
  {
   "cell_type": "markdown",
   "metadata": {
    "editable": true
   },
   "source": [
    "#### 4.3 Data dictionary \n",
    "Create a data dictionary for your data model. For each field, provide a brief description of what the data is and where it came from. You can include the data dictionary in the notebook or in a separate file."
   ]
  },
  {
   "cell_type": "markdown",
   "metadata": {
    "editable": true
   },
   "source": [
    "\n",
    "'''\n",
    "\n",
    "i94date\n",
    "arrival_sasdate int PK\n",
    "\n",
    "> Non-immigrant arrival date in the USA (SAS date numeric field) from `arrdate` i94 non-immigration data\n",
    "arrival_isodate date\n",
    "\n",
    "> converted to iso date format (YYYY-MM-DD) from arrival_sasdate\n",
    "arrival_month int arrival_day int arrival_year int arrival_week int\n",
    "\n",
    "> week of year\n",
    "arrival_season string\n",
    "\n",
    "> winter, spring, summer or autumn seasons\n",
    "\n",
    "i94port\n",
    "id string PK\n",
    "\n",
    "> i94 port 3 character code of destination USA city\n",
    "city string state string\n",
    "\n",
    "i94visa\n",
    "id int PK\n",
    "\n",
    "> i94 visa code number stating reason for immigration from i94 non-immigration data\n",
    "reason string\n",
    "\n",
    "i94res\n",
    "id int PK\n",
    "\n",
    "> i94 3 digit code of nationality from i94 non-immigration data\n",
    "country string\n",
    "\n",
    "i94mode\n",
    "id int PK\n",
    "\n",
    "> i94 1 digit mode (plane, boat, etc) of travel code from i94 non-immigration data\n",
    "transport string\n",
    "\n",
    "i94non_immigrant_port_entry\n",
    "admnum int PK\n",
    "\n",
    "> Admission Number from i94 non-immigration data\n",
    "arrdate int FK >- i94date.arrival_sasdate\n",
    "\n",
    "> arrival date in the USA (SAS date numeric field) from i94 non-immigration data\n",
    "depdate int\n",
    "\n",
    "> Departure Date from the USA. It is a SAS date numeric field from i94 non-immigration data\n",
    "port_id string FK >- i94port.id\n",
    "\n",
    "> 3 character code of destination USA city from i94 non-immigration data\n",
    "visa_id int FK >- i94visa.id\n",
    "\n",
    "> reason for immigration from i94 non-immigration data\n",
    "res_id int FK >- i94res.id\n",
    "\n",
    "> 3 digit code of nationality from i94 non-immigration data\n",
    "mode_id int FK >- i94mode.id\n",
    "\n",
    "> 1 digit mode (plane, boat, etc) of travel code from i94 non-immigration data\n",
    "age int\n",
    "\n",
    "> Age of non-immigrant in years from i94 non-immigration data\n",
    "gender string\n",
    "\n",
    "> Non-immigrant sex from i94 non-immigration data\n",
    "cnt_of_one int\n",
    "\n",
    "> count of one per row used for statistical metrics from i94 non-immigration data\n",
    "median_age float\n",
    "\n",
    "> Median age of population in city and state from US cities demographics data\n",
    "male_pop int\n",
    "\n",
    "> Male population of city and state from US cities demographics data\n",
    "female_pop int\n",
    "\n",
    "> Female population of city and state from US cities demographics data\n",
    "ttl_pop int\n",
    "\n",
    "> Total population of city and state from US cities demographics data\n",
    "foreign_born_pop int\n",
    "\n",
    "> Foreign born population of city and state from US cities demographics data\n",
    "avg_household_size float\n",
    "\n",
    "> Average household size of city and state from US cities demographics data\n",
    "american_indian_alaskan_native_pop int\n",
    "\n",
    "> Aerican Indian population of city and state from US cities demographics data\n",
    "asian_pop int\n",
    "\n",
    "> Asian population of city and state from US cities demographics data\n",
    "black_african_american_pop int\n",
    "\n",
    "> Black population of city and state from US cities demographics data\n",
    "hispanic_pop int\n",
    "\n",
    "> Hispanic population of city and state from US cities demographics data\n",
    "white_pop int\n",
    "\n",
    "> White population of city and state from US cities demographics data"
   ]
  },
  {
   "cell_type": "markdown",
   "metadata": {
    "editable": true
   },
   "source": [
    "#### Step 5: Complete Project Write Up\n",
    "* Clearly state the rationale for the choice of tools and technologies for the project.\n",
    "> Because we are dealing with big data and cloud technologies for solutions it made economical sense to use opensource Apache Spark and Python tools that can be easily ported over to cloud solution such as AWS or others. Pandas is always a good way for quick checks but is not that usefull when the data becomes bigger. Writing the data as parquet files improves efficiencies if we are going to write out the data to columnar oriented tables in any datalake as redshift etc. eg. It is even more efficient in using it with AWS EMR because of the underlying hadoop ecosystem.\n",
    "* Propose how often the data should be updated and why.\n",
    "> Dimenstion tables only have to be updated when a new category is created by I94. However, the I94 non-immigrant port of entry data along with the time dimension table (i94date) can be updated every month. The US Cities Demographics data is updated every ten years according to https://www.usa.gov/statistics. So, the new US Cities Demographics data set maybe coming after year 2020. And may need updating after one year or two years as of 2019.\n",
    "* Write a description of how you would approach the problem differently under the following scenarios:\n",
    " * The data was increased by 100x.\n",
    " > Deploy this Spark solution on a cluster using AWS (EMR cluster) and use S3 for data and parquet file storage or alternatively a data lake like Amazon Redshift.. AWS will easily scale when data increases by 100x. The scaling in a cloud will not be the bootleneck, it is more about the question to adapt the table schema for the purpose need. \n",
    " * The data populates a dashboard that must be updated on a daily basis by 7am every day.\n",
    " > Use Apache Airflow to schedule queries. This will have also the nice seideeffect that airflow can reshedule if something does not work out or even give you an information about that somethign did not work out. Using aurflow for operational tasking gives you several abilities to get nbetter insghts (eg. how long did my ETL took?)\n",
    " * The database needed to be accessed by 100+ people.\n",
    " > The saved parquet files can be bulk copied over to AWS Redshift cluster where it can scale big data requirements and has 'massively parallel' and 'limitless concurrency' for thousands of concurrent queries executed by users."
   ]
  },
  {
   "cell_type": "code",
   "execution_count": null,
   "metadata": {
    "editable": true
   },
   "outputs": [],
   "source": [
    "# Answer a question with the new dataset"
   ]
  },
  {
   "cell_type": "code",
   "execution_count": 94,
   "metadata": {
    "editable": true
   },
   "outputs": [
    {
     "name": "stdout",
     "output_type": "stream",
     "text": [
      "complete\n"
     ]
    }
   ],
   "source": [
    "# Do all imports and installs here\n",
    "import pandas as pd\n",
    "import os\n",
    "from pyspark.sql import SparkSession\n",
    "os.environ[\"JAVA_HOME\"] = \"/usr/lib/jvm/java-8-openjdk-amd64\"\n",
    "os.environ[\"PATH\"] = \"/opt/conda/bin:/opt/spark-2.4.3-bin-hadoop2.7/bin:/opt/conda/bin:/usr/local/sbin:/usr/local/bin:/usr/sbin:/usr/bin:/sbin:/bin:/usr/lib/jvm/java-8-openjdk-amd64/bin\"\n",
    "os.environ[\"SPARK_HOME\"] = \"/opt/spark-2.4.3-bin-hadoop2.7\"\n",
    "os.environ[\"HADOOP_HOME\"] = \"/opt/spark-2.4.3-bin-hadoop2.7\"\n",
    "spark = SparkSession.builder.getOrCreate()\n",
    "i94non_immigrant_port_entry = spark.read.load('./data/i94non_immigrant_port_entry.parquet')\n",
    "print(\"complete\")"
   ]
  },
  {
   "cell_type": "code",
   "execution_count": 95,
   "metadata": {
    "editable": true
   },
   "outputs": [
    {
     "data": {
      "text/plain": [
       "1083121"
      ]
     },
     "execution_count": 95,
     "metadata": {},
     "output_type": "execute_result"
    }
   ],
   "source": [
    "df_i94non_immigrant_port_entry_sample = i94non_immigrant_port_entry.sample(0.35)\n",
    "df_i94non_immigrant_port_entry_sample.count()"
   ]
  },
  {
   "cell_type": "code",
   "execution_count": 96,
   "metadata": {
    "editable": true
   },
   "outputs": [],
   "source": [
    "dfp_i94non_immigrant_port_entry = df_i94non_immigrant_port_entry_sample.toPandas()"
   ]
  },
  {
   "cell_type": "code",
   "execution_count": 97,
   "metadata": {
    "editable": true
   },
   "outputs": [
    {
     "data": {
      "text/plain": [
       "Index(['i94res', 'i94port', 'arrdate', 'i94mode', 'depdate', 'i94bir',\n",
       "       'i94visa', 'count', 'gender', 'admnum', 'port', 'port_city',\n",
       "       'port_state', 'Median_age', 'Male_Pop', 'Fem_Pop', 'Ttl_Pop',\n",
       "       'Foreign-born', 'Avg_Household_Size', 'Native_Pop', 'Asian_Pop',\n",
       "       'Black_Pop', 'Latino_Pop', 'White_Pop'],\n",
       "      dtype='object')"
      ]
     },
     "execution_count": 97,
     "metadata": {},
     "output_type": "execute_result"
    }
   ],
   "source": [
    "dfp_i94non_immigrant_port_entry.columns"
   ]
  },
  {
   "cell_type": "code",
   "execution_count": 98,
   "metadata": {
    "editable": true
   },
   "outputs": [],
   "source": [
    "dfp_i94non_immigrant_port_entry[[\"Latino_Pop\"]] = dfp_i94non_immigrant_port_entry[[\"Latino_Pop\"]].apply(pd.to_numeric)"
   ]
  },
  {
   "cell_type": "code",
   "execution_count": 99,
   "metadata": {
    "editable": true
   },
   "outputs": [
    {
     "name": "stdout",
     "output_type": "stream",
     "text": [
      "<class 'pandas.core.frame.DataFrame'>\n",
      "RangeIndex: 1083121 entries, 0 to 1083120\n",
      "Data columns (total 24 columns):\n",
      "i94res                1083121 non-null int32\n",
      "i94port               1083121 non-null object\n",
      "arrdate               1083121 non-null int32\n",
      "i94mode               1083028 non-null float64\n",
      "depdate               1033127 non-null float64\n",
      "i94bir                1082876 non-null float64\n",
      "i94visa               1083121 non-null int32\n",
      "count                 1083121 non-null int32\n",
      "gender                937810 non-null object\n",
      "admnum                1083121 non-null int64\n",
      "port                  1083121 non-null object\n",
      "port_city             1083121 non-null object\n",
      "port_state            1083121 non-null object\n",
      "Median_age            835306 non-null object\n",
      "Male_Pop              835306 non-null object\n",
      "Fem_Pop               835306 non-null object\n",
      "Ttl_Pop               835306 non-null object\n",
      "Foreign-born          832152 non-null object\n",
      "Avg_Household_Size    832152 non-null object\n",
      "Native_Pop            829185 non-null object\n",
      "Asian_Pop             835220 non-null object\n",
      "Black_Pop             832152 non-null object\n",
      "Latino_Pop            835306 non-null float64\n",
      "White_Pop             832152 non-null object\n",
      "dtypes: float64(4), int32(4), int64(1), object(15)\n",
      "memory usage: 181.8+ MB\n"
     ]
    }
   ],
   "source": [
    "dfp_i94non_immigrant_port_entry.info()"
   ]
  },
  {
   "cell_type": "code",
   "execution_count": 100,
   "metadata": {
    "editable": true
   },
   "outputs": [
    {
     "data": {
      "text/html": [
       "<div>\n",
       "<style scoped>\n",
       "    .dataframe tbody tr th:only-of-type {\n",
       "        vertical-align: middle;\n",
       "    }\n",
       "\n",
       "    .dataframe tbody tr th {\n",
       "        vertical-align: top;\n",
       "    }\n",
       "\n",
       "    .dataframe thead th {\n",
       "        text-align: right;\n",
       "    }\n",
       "</style>\n",
       "<table border=\"1\" class=\"dataframe\">\n",
       "  <thead>\n",
       "    <tr style=\"text-align: right;\">\n",
       "      <th></th>\n",
       "      <th>i94res</th>\n",
       "      <th>arrdate</th>\n",
       "      <th>i94mode</th>\n",
       "      <th>depdate</th>\n",
       "      <th>i94bir</th>\n",
       "      <th>i94visa</th>\n",
       "      <th>count</th>\n",
       "      <th>admnum</th>\n",
       "      <th>Latino_Pop</th>\n",
       "    </tr>\n",
       "    <tr>\n",
       "      <th>i94port</th>\n",
       "      <th></th>\n",
       "      <th></th>\n",
       "      <th></th>\n",
       "      <th></th>\n",
       "      <th></th>\n",
       "      <th></th>\n",
       "      <th></th>\n",
       "      <th></th>\n",
       "      <th></th>\n",
       "    </tr>\n",
       "  </thead>\n",
       "  <tbody>\n",
       "    <tr>\n",
       "      <th>NYC</th>\n",
       "      <td>44049837.0</td>\n",
       "      <td>3.498593e+09</td>\n",
       "      <td>171254.0</td>\n",
       "      <td>3.371438e+09</td>\n",
       "      <td>6960366.0</td>\n",
       "      <td>320253.0</td>\n",
       "      <td>170165.0</td>\n",
       "      <td>11974371751808188</td>\n",
       "      <td>4.228813e+11</td>\n",
       "    </tr>\n",
       "    <tr>\n",
       "      <th>LOS</th>\n",
       "      <td>33729767.0</td>\n",
       "      <td>2.232039e+09</td>\n",
       "      <td>109490.0</td>\n",
       "      <td>2.153283e+09</td>\n",
       "      <td>4504396.0</td>\n",
       "      <td>201741.0</td>\n",
       "      <td>108563.0</td>\n",
       "      <td>7719655549416933</td>\n",
       "      <td>2.102574e+11</td>\n",
       "    </tr>\n",
       "    <tr>\n",
       "      <th>MIA</th>\n",
       "      <td>55217560.0</td>\n",
       "      <td>2.478909e+09</td>\n",
       "      <td>122836.0</td>\n",
       "      <td>2.389539e+09</td>\n",
       "      <td>5028821.0</td>\n",
       "      <td>230482.0</td>\n",
       "      <td>120571.0</td>\n",
       "      <td>9440925255493812</td>\n",
       "      <td>3.857573e+10</td>\n",
       "    </tr>\n",
       "    <tr>\n",
       "      <th>HOU</th>\n",
       "      <td>14080021.0</td>\n",
       "      <td>7.316890e+08</td>\n",
       "      <td>36374.0</td>\n",
       "      <td>6.953866e+08</td>\n",
       "      <td>1563491.0</td>\n",
       "      <td>62299.0</td>\n",
       "      <td>35588.0</td>\n",
       "      <td>2759338405495830</td>\n",
       "      <td>3.658973e+10</td>\n",
       "    </tr>\n",
       "    <tr>\n",
       "      <th>CHI</th>\n",
       "      <td>11308624.0</td>\n",
       "      <td>9.349573e+08</td>\n",
       "      <td>46021.0</td>\n",
       "      <td>8.844225e+08</td>\n",
       "      <td>1977324.0</td>\n",
       "      <td>77353.0</td>\n",
       "      <td>45475.0</td>\n",
       "      <td>3286648526740453</td>\n",
       "      <td>3.573084e+10</td>\n",
       "    </tr>\n",
       "  </tbody>\n",
       "</table>\n",
       "</div>"
      ],
      "text/plain": [
       "             i94res       arrdate   i94mode       depdate     i94bir  \\\n",
       "i94port                                                                \n",
       "NYC      44049837.0  3.498593e+09  171254.0  3.371438e+09  6960366.0   \n",
       "LOS      33729767.0  2.232039e+09  109490.0  2.153283e+09  4504396.0   \n",
       "MIA      55217560.0  2.478909e+09  122836.0  2.389539e+09  5028821.0   \n",
       "HOU      14080021.0  7.316890e+08   36374.0  6.953866e+08  1563491.0   \n",
       "CHI      11308624.0  9.349573e+08   46021.0  8.844225e+08  1977324.0   \n",
       "\n",
       "          i94visa     count             admnum    Latino_Pop  \n",
       "i94port                                                       \n",
       "NYC      320253.0  170165.0  11974371751808188  4.228813e+11  \n",
       "LOS      201741.0  108563.0   7719655549416933  2.102574e+11  \n",
       "MIA      230482.0  120571.0   9440925255493812  3.857573e+10  \n",
       "HOU       62299.0   35588.0   2759338405495830  3.658973e+10  \n",
       "CHI       77353.0   45475.0   3286648526740453  3.573084e+10  "
      ]
     },
     "execution_count": 100,
     "metadata": {},
     "output_type": "execute_result"
    }
   ],
   "source": [
    "# On which Port do we have the most Latino Population\n",
    "dfp_i94non_immigrant_port_entry[dfp_i94non_immigrant_port_entry[\"Latino_Pop\"] > 10000]\n",
    "df = dfp_i94non_immigrant_port_entry.groupby(['i94port']).sum()\n",
    "df.sort_values(by=['Latino_Pop'], ascending=False).head(5)"
   ]
  },
  {
   "cell_type": "code",
   "execution_count": 101,
   "metadata": {
    "editable": true
   },
   "outputs": [
    {
     "data": {
      "text/html": [
       "<div>\n",
       "<style scoped>\n",
       "    .dataframe tbody tr th:only-of-type {\n",
       "        vertical-align: middle;\n",
       "    }\n",
       "\n",
       "    .dataframe tbody tr th {\n",
       "        vertical-align: top;\n",
       "    }\n",
       "\n",
       "    .dataframe thead th {\n",
       "        text-align: right;\n",
       "    }\n",
       "</style>\n",
       "<table border=\"1\" class=\"dataframe\">\n",
       "  <thead>\n",
       "    <tr style=\"text-align: right;\">\n",
       "      <th></th>\n",
       "      <th>i94res</th>\n",
       "      <th>i94mode</th>\n",
       "      <th>depdate</th>\n",
       "      <th>i94bir</th>\n",
       "      <th>i94visa</th>\n",
       "      <th>count</th>\n",
       "      <th>admnum</th>\n",
       "      <th>Latino_Pop</th>\n",
       "    </tr>\n",
       "    <tr>\n",
       "      <th>arrdate</th>\n",
       "      <th></th>\n",
       "      <th></th>\n",
       "      <th></th>\n",
       "      <th></th>\n",
       "      <th></th>\n",
       "      <th></th>\n",
       "      <th></th>\n",
       "      <th></th>\n",
       "    </tr>\n",
       "  </thead>\n",
       "  <tbody>\n",
       "    <tr>\n",
       "      <th>20573</th>\n",
       "      <td>13561599</td>\n",
       "      <td>47891.0</td>\n",
       "      <td>894871336.0</td>\n",
       "      <td>1857766.0</td>\n",
       "      <td>86559</td>\n",
       "      <td>45084</td>\n",
       "      <td>3286022937723095</td>\n",
       "      <td>2.835053e+10</td>\n",
       "    </tr>\n",
       "    <tr>\n",
       "      <th>20574</th>\n",
       "      <td>13068936</td>\n",
       "      <td>47832.0</td>\n",
       "      <td>871190810.0</td>\n",
       "      <td>1836935.0</td>\n",
       "      <td>82715</td>\n",
       "      <td>44297</td>\n",
       "      <td>3223239876381553</td>\n",
       "      <td>3.147453e+10</td>\n",
       "    </tr>\n",
       "    <tr>\n",
       "      <th>20572</th>\n",
       "      <td>12875539</td>\n",
       "      <td>44225.0</td>\n",
       "      <td>826483192.0</td>\n",
       "      <td>1792379.0</td>\n",
       "      <td>81045</td>\n",
       "      <td>41991</td>\n",
       "      <td>3093580152067753</td>\n",
       "      <td>3.329892e+10</td>\n",
       "    </tr>\n",
       "    <tr>\n",
       "      <th>20559</th>\n",
       "      <td>12498355</td>\n",
       "      <td>46967.0</td>\n",
       "      <td>787343394.0</td>\n",
       "      <td>1686515.0</td>\n",
       "      <td>75483</td>\n",
       "      <td>40220</td>\n",
       "      <td>2855783411044347</td>\n",
       "      <td>2.816699e+10</td>\n",
       "    </tr>\n",
       "    <tr>\n",
       "      <th>20566</th>\n",
       "      <td>12119110</td>\n",
       "      <td>42183.0</td>\n",
       "      <td>756558393.0</td>\n",
       "      <td>1613118.0</td>\n",
       "      <td>74403</td>\n",
       "      <td>38565</td>\n",
       "      <td>2802619680951964</td>\n",
       "      <td>3.048849e+10</td>\n",
       "    </tr>\n",
       "  </tbody>\n",
       "</table>\n",
       "</div>"
      ],
      "text/plain": [
       "           i94res  i94mode      depdate     i94bir  i94visa  count  \\\n",
       "arrdate                                                              \n",
       "20573    13561599  47891.0  894871336.0  1857766.0    86559  45084   \n",
       "20574    13068936  47832.0  871190810.0  1836935.0    82715  44297   \n",
       "20572    12875539  44225.0  826483192.0  1792379.0    81045  41991   \n",
       "20559    12498355  46967.0  787343394.0  1686515.0    75483  40220   \n",
       "20566    12119110  42183.0  756558393.0  1613118.0    74403  38565   \n",
       "\n",
       "                   admnum    Latino_Pop  \n",
       "arrdate                                  \n",
       "20573    3286022937723095  2.835053e+10  \n",
       "20574    3223239876381553  3.147453e+10  \n",
       "20572    3093580152067753  3.329892e+10  \n",
       "20559    2855783411044347  2.816699e+10  \n",
       "20566    2802619680951964  3.048849e+10  "
      ]
     },
     "execution_count": 101,
     "metadata": {},
     "output_type": "execute_result"
    }
   ],
   "source": [
    "#On which date did we had the most Visa applies\n",
    "df = dfp_i94non_immigrant_port_entry.groupby(['arrdate']).sum()\n",
    "df.sort_values(by=['i94visa'], ascending=False).head(5)"
   ]
  },
  {
   "cell_type": "code",
   "execution_count": null,
   "metadata": {
    "editable": true
   },
   "outputs": [],
   "source": []
  }
 ],
 "metadata": {
  "kernelspec": {
   "display_name": "Python 3",
   "language": "python",
   "name": "python3"
  },
  "language_info": {
   "codemirror_mode": {
    "name": "ipython",
    "version": 3
   },
   "file_extension": ".py",
   "mimetype": "text/x-python",
   "name": "python",
   "nbconvert_exporter": "python",
   "pygments_lexer": "ipython3",
   "version": "3.6.3"
  }
 },
 "nbformat": 4,
 "nbformat_minor": 4
}
